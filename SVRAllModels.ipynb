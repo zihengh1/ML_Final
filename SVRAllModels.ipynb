{
  "nbformat": 4,
  "nbformat_minor": 0,
  "metadata": {
    "colab": {
      "name": "SVR.ipynb",
      "provenance": [],
      "collapsed_sections": []
    },
    "kernelspec": {
      "display_name": "Python 3",
      "name": "python3"
    },
    "language_info": {
      "name": "python"
    }
  },
  "cells": [
    {
      "cell_type": "code",
      "metadata": {
        "id": "going-objective"
      },
      "source": [
        "import pickle\n",
        "import numpy as np\n",
        "import pandas as pd\n",
        "import networkx as nx\n",
        "import seaborn as sns\n",
        "import matplotlib.pyplot as plt\n",
        "from sklearn.svm import SVR\n",
        "from sklearn.svm import LinearSVR\n",
        "from sklearn.preprocessing import StandardScaler\n",
        "from sklearn.pipeline import make_pipeline\n",
        "from sklearn.multioutput import MultiOutputRegressor\n",
        "from sklearn.cross_decomposition import PLSRegression\n",
        "from sklearn.multioutput import RegressorChain\n",
        "from sklearn.metrics import mean_squared_error, mean_absolute_percentage_error, mean_absolute_error\n",
        "from tqdm import tqdm"
      ],
      "execution_count": null,
      "outputs": []
    },
    {
      "cell_type": "markdown",
      "metadata": {
        "id": "GH-Dbps1pvSt"
      },
      "source": [
        "Making Data Set\n"
      ]
    },
    {
      "cell_type": "code",
      "metadata": {
        "id": "vlBJG3QVvZMv"
      },
      "source": [
        "adj_mx_la = pd.read_pickle(\"/content/drive/MyDrive/Traffic Prediction/Dataset/LA/adj_mx.pkl\")"
      ],
      "execution_count": null,
      "outputs": []
    },
    {
      "cell_type": "code",
      "metadata": {
        "id": "MLMk8bic017X"
      },
      "source": [
        "sensor_list_la = adj_mx_la[0]"
      ],
      "execution_count": null,
      "outputs": []
    },
    {
      "cell_type": "code",
      "metadata": {
        "id": "26BrZAszpd4H"
      },
      "source": [
        "import argparse\n",
        "import numpy as np\n",
        "import os\n",
        "import pandas as pd\n",
        "\n",
        "def generate_graph_seq2seq_io_data(\n",
        "        df, x_offsets, y_offsets, add_time_in_day=True, add_day_in_week=False, scaler=None\n",
        "):\n",
        "    \"\"\"\n",
        "    Generate samples from\n",
        "    :param df:\n",
        "    :param x_offsets:\n",
        "    :param y_offsets:\n",
        "    :param add_time_in_day:\n",
        "    :param add_day_in_week:\n",
        "    :param scaler:\n",
        "    :return:\n",
        "    # x: (epoch_size, input_length, num_nodes, input_dim)\n",
        "    # y: (epoch_size, output_length, num_nodes, output_dim)\n",
        "    \"\"\"\n",
        "\n",
        "    num_samples, num_nodes = df.shape\n",
        "    data = np.expand_dims(df.values, axis=-1)\n",
        "    data_list = [data]\n",
        "    if add_time_in_day:\n",
        "        time_ind = (df.index.values - df.index.values.astype(\"datetime64[D]\")) / np.timedelta64(1, \"D\")\n",
        "        time_in_day = np.tile(time_ind, [1, num_nodes, 1]).transpose((2, 1, 0))\n",
        "        data_list.append(time_in_day)\n",
        "    if add_day_in_week:\n",
        "        day_in_week = np.zeros(shape=(num_samples, num_nodes, 7))\n",
        "        day_in_week[np.arange(num_samples), :, df.index.dayofweek] = 1\n",
        "        data_list.append(day_in_week)\n",
        "\n",
        "    data = np.concatenate(data_list, axis=-1)\n",
        "    # epoch_len = num_samples + min(x_offsets) - max(y_offsets)\n",
        "    x, y = [], []\n",
        "    # t is the index of the last observation.\n",
        "    min_t = abs(min(x_offsets))\n",
        "    max_t = abs(num_samples - abs(max(y_offsets)))  # Exclusive\n",
        "    for t in range(min_t, max_t):\n",
        "        x_t = data[t + x_offsets, ...]\n",
        "        y_t = data[t + y_offsets, ...]\n",
        "        x.append(x_t)\n",
        "        y.append(y_t)\n",
        "    x = np.stack(x, axis=0)\n",
        "    y = np.stack(y, axis=0)\n",
        "    return x, y\n",
        "\n",
        "\n",
        "def generate_train_val_test(inputFile,outPutDir):\n",
        "    df = pd.read_hdf(inputFile)\n",
        "    # 0 is the latest observed sample.\n",
        "    x_offsets = np.sort(\n",
        "        # np.concatenate(([-week_size + 1, -day_size + 1], np.arange(-11, 1, 1)))\n",
        "        np.concatenate((np.arange(-11, 1, 1),))\n",
        "    )\n",
        "    # Predict the next one hour\n",
        "    y_offsets = np.sort(np.arange(1, 13, 1))\n",
        "    # x: (num_samples, input_length, num_nodes, input_dim)\n",
        "    # y: (num_samples, output_length, num_nodes, output_dim)\n",
        "    x, y = generate_graph_seq2seq_io_data(\n",
        "        df,\n",
        "        x_offsets=x_offsets,\n",
        "        y_offsets=y_offsets,\n",
        "        add_time_in_day=True,\n",
        "        add_day_in_week=False,\n",
        "    )\n",
        "\n",
        "    print(\"x shape: \", x.shape, \", y shape: \", y.shape)\n",
        "    # Write the data into npz file.\n",
        "    # num_test = 6831, using the last 6831 examples as testing.\n",
        "    # for the rest: 7/8 is used for training, and 1/8 is used for validation.\n",
        "    num_samples = x.shape[0]\n",
        "    num_test = round(num_samples * 0.2)\n",
        "    num_train = round(num_samples * 0.7)\n",
        "    num_val = num_samples - num_test - num_train\n",
        "\n",
        "    # train\n",
        "    x_train, y_train = x[:num_train], y[:num_train]\n",
        "    # val\n",
        "    x_val, y_val = (\n",
        "        x[num_train: num_train + num_val],\n",
        "        y[num_train: num_train + num_val],\n",
        "    )\n",
        "    # test\n",
        "    x_test, y_test = x[-num_test:], y[-num_test:]\n",
        "\n",
        "    for cat in [\"train\", \"val\", \"test\"]:\n",
        "        _x, _y = locals()[\"x_\" + cat], locals()[\"y_\" + cat]\n",
        "        print(cat, \"x: \", _x.shape, \"y:\", _y.shape)\n",
        "        np.savez_compressed(\n",
        "            os.path.join(outPutDir, \"%s.npz\" % cat),\n",
        "            x=_x,\n",
        "            y=_y,\n",
        "            x_offsets=x_offsets.reshape(list(x_offsets.shape) + [1]),\n",
        "            y_offsets=y_offsets.reshape(list(y_offsets.shape) + [1]),\n",
        "        )\n"
      ],
      "execution_count": null,
      "outputs": []
    },
    {
      "cell_type": "code",
      "metadata": {
        "colab": {
          "base_uri": "https://localhost:8080/"
        },
        "id": "nyIegHqvq5mb",
        "outputId": "329b1905-6a19-41af-e034-f4c778c825b8"
      },
      "source": [
        "inputFile = '/content/drive/MyDrive/Traffic Prediction/Dataset/metr-la.h5'\n",
        "outPutDir = '/content/drive/MyDrive/Traffic Prediction/Dataset/LA'\n",
        "\n",
        "generate_train_val_test(inputFile,outPutDir)"
      ],
      "execution_count": null,
      "outputs": [
        {
          "name": "stdout",
          "output_type": "stream",
          "text": [
            "x shape:  (34249, 12, 207, 2) , y shape:  (34249, 12, 207, 2)\n",
            "train x:  (23974, 12, 207, 2) y: (23974, 12, 207, 2)\n",
            "val x:  (3425, 12, 207, 2) y: (3425, 12, 207, 2)\n",
            "test x:  (6850, 12, 207, 2) y: (6850, 12, 207, 2)\n"
          ]
        }
      ]
    },
    {
      "cell_type": "code",
      "metadata": {
        "id": "occupational-cache"
      },
      "source": [
        "train_LA = np.load(\"/content/drive/MyDrive/Traffic Prediction/Dataset/LA/train.npz\")\n",
        "test_LA = np.load(\"/content/drive/MyDrive/Traffic Prediction/Dataset/LA/test.npz\")\n",
        "val_LA = np.load(\"/content/drive/MyDrive/Traffic Prediction/Dataset/LA/val.npz\")"
      ],
      "execution_count": null,
      "outputs": []
    },
    {
      "cell_type": "markdown",
      "metadata": {
        "id": "jbm3fOUxtpcS"
      },
      "source": [
        "How Does our Data Set Look Like?"
      ]
    },
    {
      "cell_type": "code",
      "metadata": {
        "colab": {
          "base_uri": "https://localhost:8080/"
        },
        "id": "touched-plane",
        "outputId": "3aa2c116-2d5c-4c8f-b951-b85e21d847c2"
      },
      "source": [
        "print(train_LA[\"x\"].shape, train_LA[\"y\"].shape, train_LA[\"x_offsets\"].shape, train_LA[\"y_offsets\"].shape)\n",
        "print(test_LA[\"x\"].shape, test_LA[\"y\"].shape, test_LA[\"x_offsets\"].shape, test_LA[\"y_offsets\"].shape)\n",
        "print(val_LA[\"x\"].shape, val_LA[\"y\"].shape, val_LA[\"x_offsets\"].shape, val_LA[\"y_offsets\"].shape)"
      ],
      "execution_count": null,
      "outputs": [
        {
          "output_type": "stream",
          "name": "stdout",
          "text": [
            "(23974, 12, 207, 2) (23974, 12, 207, 2) (12, 1) (12, 1)\n",
            "(6850, 12, 207, 2) (6850, 12, 207, 2) (12, 1) (12, 1)\n",
            "(3425, 12, 207, 2) (3425, 12, 207, 2) (12, 1) (12, 1)\n"
          ]
        }
      ]
    },
    {
      "cell_type": "code",
      "metadata": {
        "colab": {
          "base_uri": "https://localhost:8080/",
          "height": 110
        },
        "id": "fe34fc74-4d64-4fab-b503-9905595c84b6",
        "outputId": "3bd3417b-4db6-43c8-e29e-9d6e45c3bf70"
      },
      "source": [
        "plt.figure(figsize=(30, 2))\n",
        "plt.plot(train_LA[\"x\"][:, :, 0, 0][:, 0])\n",
        "plt.title(\"Time Series of Sensor \" + adj_mx_la[0][0] + \" in LA\")\n",
        "plt.show()"
      ],
      "execution_count": null,
      "outputs": [
        {
          "data": {
            "image/png": "[encoded data removed]",
            "text/plain": [
              "<Figure size 2160x144 with 1 Axes>"
            ]
          },
          "metadata": {},
          "output_type": "display_data"
        }
      ]
    },
    {
      "cell_type": "code",
      "metadata": {
        "colab": {
          "base_uri": "https://localhost:8080/",
          "height": 110
        },
        "id": "b1166ae7-3e83-4d0a-b13e-5ff6a5b65cbf",
        "outputId": "235bf5f8-6486-4e3c-ddc3-205e8218554a"
      },
      "source": [
        "plt.figure(figsize=(30, 2))\n",
        "plt.plot(train_LA[\"x\"][:, :, 1, 0][:, 0])\n",
        "plt.title(\"Time Series of Sensor \" + adj_mx_la[0][1] + \" in LA\")\n",
        "plt.show()"
      ],
      "execution_count": null,
      "outputs": [
        {
          "data": {
            "image/png": "[encoded data removed]",
            "text/plain": [
              "<Figure size 2160x144 with 1 Axes>"
            ]
          },
          "metadata": {},
          "output_type": "display_data"
        }
      ]
    },
    {
      "cell_type": "code",
      "metadata": {
        "colab": {
          "base_uri": "https://localhost:8080/"
        },
        "id": "extended-threat",
        "outputId": "852239d2-d8f2-4e3d-a3fb-81b1fcfb352c"
      },
      "source": [
        "AvgErrorHyperParam = list()\n",
        "for c in range(5,20,5):\n",
        "    MaeData = list()\n",
        "    RmseData = list()\n",
        "    sampleSize=15\n",
        "    for i in tqdm(range(sampleSize)):\n",
        "        print(\"Sensor: \", sensor_list_la[i], end=\", \")\n",
        "        train_X = train_LA[\"x\"][:, :, i, 0]\n",
        "        train_y = train_LA[\"y\"][:, :, i, 0]\n",
        "        val_X = val_LA[\"x\"][:, :, i, 0]\n",
        "        val_y = val_LA[\"y\"][:, :, i, 0]\n",
        "        regr = make_pipeline(StandardScaler(), MultiOutputRegressor(LinearSVR(C=c, max_iter=c*3000)))\n",
        "        regr = regr.fit(train_X, train_y)\n",
        "        prediction = regr.predict(val_X)\n",
        "        mae, rmse, mape = [], [], []\n",
        "        for pred, gt in zip(prediction, val_y):\n",
        "            mae.append(mean_absolute_error(pred, gt))\n",
        "            rmse.append(np.sqrt(mean_squared_error(pred, gt)))\n",
        "        MaeData.append(round(sum(mae) / len(mae), 3))\n",
        "        RmseData.append(round(sum(rmse) / len(rmse), 3))\n",
        "        print(\"AVG MAE: \", round(sum(mae) / len(mae), 3), end=\", \")\n",
        "        print(\"AVG RMSE: \", round(sum(rmse) / len(rmse), 3), end=\", \")\n",
        "    error = list()\n",
        "    error.append(c)\n",
        "    avgMAEperSesor = round(sum(MaeData) / len(MaeData), 4)\n",
        "    avgRMSEperSesor = round(sum(RmseData) / len(RmseData), 4)\n",
        "    error.append(avgMAEperSesor)\n",
        "    error.append(avgRMSEperSesor)\n",
        "    AvgErrorHyperParam.append(error)\n",
        "\n",
        "import pickle\n",
        "\n",
        "with open('/content/drive/MyDrive/Traffic Prediction/Results/AvgErrorHyperParam.pkl', 'wb') as f:\n",
        "  pickle.dump(np.array(AvgErrorHyperParam), f)\n",
        "\n",
        "AvgErrorHyperParam = np.array(AvgErrorHyperParam)\n",
        "\n",
        "index = np.argmin(AvgErrorHyperParam[:,1])\n",
        "print(\"Hyper param C selected will be : {}\".format(AvgErrorHyperParam[index][0]))\n",
        "\n",
        "SelectedC = AvgErrorHyperParam[index][0]\n",
        "\n",
        "\n",
        "    "
      ],
      "execution_count": null,
      "outputs": [
        {
          "name": "stderr",
          "output_type": "stream",
          "text": [
            "\r  0%|          | 0/15 [00:00<?, ?it/s]"
          ]
        },
        {
          "name": "stdout",
          "output_type": "stream",
          "text": [
            "Sensor:  773869, "
          ]
        },
        {
          "name": "stderr",
          "output_type": "stream",
          "text": [
            "\r  7%|▋         | 1/15 [00:29<06:55, 29.64s/it]"
          ]
        },
        {
          "name": "stdout",
          "output_type": "stream",
          "text": [
            "AVG MAE:  3.667, AVG RMSE:  4.582, Sensor:  767541, "
          ]
        },
        {
          "name": "stderr",
          "output_type": "stream",
          "text": [
            "\r 13%|█▎        | 2/15 [01:01<06:40, 30.80s/it]"
          ]
        },
        {
          "name": "stdout",
          "output_type": "stream",
          "text": [
            "AVG MAE:  2.814, AVG RMSE:  3.701, Sensor:  767542, "
          ]
        },
        {
          "name": "stderr",
          "output_type": "stream",
          "text": [
            "\r 20%|██        | 3/15 [01:40<06:56, 34.70s/it]"
          ]
        },
        {
          "name": "stdout",
          "output_type": "stream",
          "text": [
            "AVG MAE:  3.548, AVG RMSE:  4.574, Sensor:  717447, "
          ]
        },
        {
          "name": "stderr",
          "output_type": "stream",
          "text": [
            "\r 27%|██▋       | 4/15 [02:05<05:37, 30.68s/it]"
          ]
        },
        {
          "name": "stdout",
          "output_type": "stream",
          "text": [
            "AVG MAE:  4.974, AVG RMSE:  6.149, Sensor:  717446, "
          ]
        },
        {
          "name": "stderr",
          "output_type": "stream",
          "text": [
            "\r 33%|███▎      | 5/15 [02:23<04:23, 26.35s/it]"
          ]
        },
        {
          "name": "stdout",
          "output_type": "stream",
          "text": [
            "AVG MAE:  6.718, AVG RMSE:  8.2, Sensor:  717445, "
          ]
        },
        {
          "name": "stderr",
          "output_type": "stream",
          "text": [
            "\r 40%|████      | 6/15 [02:45<03:42, 24.69s/it]"
          ]
        },
        {
          "name": "stdout",
          "output_type": "stream",
          "text": [
            "AVG MAE:  6.099, AVG RMSE:  7.479, Sensor:  773062, "
          ]
        },
        {
          "name": "stderr",
          "output_type": "stream",
          "text": [
            "\r 47%|████▋     | 7/15 [03:13<03:26, 25.77s/it]"
          ]
        },
        {
          "name": "stdout",
          "output_type": "stream",
          "text": [
            "AVG MAE:  4.839, AVG RMSE:  6.074, Sensor:  767620, "
          ]
        },
        {
          "name": "stderr",
          "output_type": "stream",
          "text": [
            "\r 53%|█████▎    | 8/15 [03:38<02:58, 25.46s/it]"
          ]
        },
        {
          "name": "stdout",
          "output_type": "stream",
          "text": [
            "AVG MAE:  2.99, AVG RMSE:  3.9, Sensor:  737529, "
          ]
        },
        {
          "name": "stderr",
          "output_type": "stream",
          "text": [
            "\r 60%|██████    | 9/15 [04:03<02:32, 25.34s/it]"
          ]
        },
        {
          "name": "stdout",
          "output_type": "stream",
          "text": [
            "AVG MAE:  5.001, AVG RMSE:  6.241, Sensor:  717816, "
          ]
        },
        {
          "name": "stderr",
          "output_type": "stream",
          "text": [
            "\r 67%|██████▋   | 10/15 [04:29<02:08, 25.66s/it]"
          ]
        },
        {
          "name": "stdout",
          "output_type": "stream",
          "text": [
            "AVG MAE:  5.06, AVG RMSE:  6.376, Sensor:  765604, "
          ]
        },
        {
          "name": "stderr",
          "output_type": "stream",
          "text": [
            "\r 73%|███████▎  | 11/15 [04:53<01:41, 25.28s/it]"
          ]
        },
        {
          "name": "stdout",
          "output_type": "stream",
          "text": [
            "AVG MAE:  4.678, AVG RMSE:  5.82, Sensor:  767471, "
          ]
        },
        {
          "name": "stderr",
          "output_type": "stream",
          "text": [
            "\r 80%|████████  | 12/15 [05:17<01:14, 24.77s/it]"
          ]
        },
        {
          "name": "stdout",
          "output_type": "stream",
          "text": [
            "AVG MAE:  4.224, AVG RMSE:  5.416, Sensor:  716339, "
          ]
        },
        {
          "name": "stderr",
          "output_type": "stream",
          "text": [
            "\r 87%|████████▋ | 13/15 [05:34<00:44, 22.46s/it]"
          ]
        },
        {
          "name": "stdout",
          "output_type": "stream",
          "text": [
            "AVG MAE:  6.573, AVG RMSE:  8.173, Sensor:  773906, "
          ]
        },
        {
          "name": "stderr",
          "output_type": "stream",
          "text": [
            "\r 93%|█████████▎| 14/15 [06:01<00:23, 23.81s/it]"
          ]
        },
        {
          "name": "stdout",
          "output_type": "stream",
          "text": [
            "AVG MAE:  5.329, AVG RMSE:  6.745, Sensor:  765273, "
          ]
        },
        {
          "name": "stderr",
          "output_type": "stream",
          "text": [
            "100%|██████████| 15/15 [06:25<00:00, 25.71s/it]\n"
          ]
        },
        {
          "name": "stdout",
          "output_type": "stream",
          "text": [
            "AVG MAE:  5.636, AVG RMSE:  6.965, "
          ]
        },
        {
          "name": "stderr",
          "output_type": "stream",
          "text": [
            "\r  0%|          | 0/15 [00:00<?, ?it/s]"
          ]
        },
        {
          "name": "stdout",
          "output_type": "stream",
          "text": [
            "Sensor:  773869, "
          ]
        },
        {
          "name": "stderr",
          "output_type": "stream",
          "text": [
            "\r  7%|▋         | 1/15 [00:44<10:23, 44.53s/it]"
          ]
        },
        {
          "name": "stdout",
          "output_type": "stream",
          "text": [
            "AVG MAE:  3.664, AVG RMSE:  4.574, Sensor:  767541, "
          ]
        },
        {
          "name": "stderr",
          "output_type": "stream",
          "text": [
            "\r 13%|█▎        | 2/15 [01:29<09:38, 44.52s/it]"
          ]
        },
        {
          "name": "stdout",
          "output_type": "stream",
          "text": [
            "AVG MAE:  2.814, AVG RMSE:  3.702, Sensor:  767542, "
          ]
        },
        {
          "name": "stderr",
          "output_type": "stream",
          "text": [
            "\r 20%|██        | 3/15 [02:27<10:12, 51.04s/it]"
          ]
        },
        {
          "name": "stdout",
          "output_type": "stream",
          "text": [
            "AVG MAE:  3.548, AVG RMSE:  4.574, Sensor:  717447, "
          ]
        },
        {
          "name": "stderr",
          "output_type": "stream",
          "text": [
            "\r 27%|██▋       | 4/15 [03:01<08:05, 44.15s/it]"
          ]
        },
        {
          "name": "stdout",
          "output_type": "stream",
          "text": [
            "AVG MAE:  4.975, AVG RMSE:  6.148, Sensor:  717446, "
          ]
        },
        {
          "name": "stderr",
          "output_type": "stream",
          "text": [
            "\r 33%|███▎      | 5/15 [03:25<06:08, 36.90s/it]"
          ]
        },
        {
          "name": "stdout",
          "output_type": "stream",
          "text": [
            "AVG MAE:  6.718, AVG RMSE:  8.199, Sensor:  717445, "
          ]
        },
        {
          "name": "stderr",
          "output_type": "stream",
          "text": [
            "\r 40%|████      | 6/15 [03:55<05:09, 34.40s/it]"
          ]
        },
        {
          "name": "stdout",
          "output_type": "stream",
          "text": [
            "AVG MAE:  6.1, AVG RMSE:  7.479, Sensor:  773062, "
          ]
        },
        {
          "name": "stderr",
          "output_type": "stream",
          "text": [
            "\r 47%|████▋     | 7/15 [04:38<04:59, 37.50s/it]"
          ]
        },
        {
          "name": "stdout",
          "output_type": "stream",
          "text": [
            "AVG MAE:  4.839, AVG RMSE:  6.076, Sensor:  767620, "
          ]
        },
        {
          "name": "stderr",
          "output_type": "stream",
          "text": [
            "\r 53%|█████▎    | 8/15 [05:14<04:18, 36.91s/it]"
          ]
        },
        {
          "name": "stdout",
          "output_type": "stream",
          "text": [
            "AVG MAE:  2.99, AVG RMSE:  3.901, Sensor:  737529, "
          ]
        },
        {
          "name": "stderr",
          "output_type": "stream",
          "text": [
            "\r 60%|██████    | 9/15 [05:49<03:38, 36.43s/it]"
          ]
        },
        {
          "name": "stdout",
          "output_type": "stream",
          "text": [
            "AVG MAE:  4.999, AVG RMSE:  6.238, Sensor:  717816, "
          ]
        },
        {
          "name": "stderr",
          "output_type": "stream",
          "text": [
            "\r 67%|██████▋   | 10/15 [06:26<03:02, 36.48s/it]"
          ]
        },
        {
          "name": "stdout",
          "output_type": "stream",
          "text": [
            "AVG MAE:  5.058, AVG RMSE:  6.374, Sensor:  765604, "
          ]
        },
        {
          "name": "stderr",
          "output_type": "stream",
          "text": [
            "\r 73%|███████▎  | 11/15 [06:59<02:22, 35.50s/it]"
          ]
        },
        {
          "name": "stdout",
          "output_type": "stream",
          "text": [
            "AVG MAE:  4.679, AVG RMSE:  5.821, Sensor:  767471, "
          ]
        },
        {
          "name": "stderr",
          "output_type": "stream",
          "text": [
            "\r 80%|████████  | 12/15 [07:30<01:42, 34.14s/it]"
          ]
        },
        {
          "name": "stdout",
          "output_type": "stream",
          "text": [
            "AVG MAE:  4.223, AVG RMSE:  5.415, Sensor:  716339, "
          ]
        },
        {
          "name": "stderr",
          "output_type": "stream",
          "text": [
            "\r 87%|████████▋ | 13/15 [07:51<01:00, 30.17s/it]"
          ]
        },
        {
          "name": "stdout",
          "output_type": "stream",
          "text": [
            "AVG MAE:  6.574, AVG RMSE:  8.175, Sensor:  773906, "
          ]
        },
        {
          "name": "stderr",
          "output_type": "stream",
          "text": [
            "\r 93%|█████████▎| 14/15 [08:29<00:32, 32.44s/it]"
          ]
        },
        {
          "name": "stdout",
          "output_type": "stream",
          "text": [
            "AVG MAE:  5.328, AVG RMSE:  6.744, Sensor:  765273, "
          ]
        },
        {
          "name": "stderr",
          "output_type": "stream",
          "text": [
            "100%|██████████| 15/15 [09:02<00:00, 36.18s/it]\n"
          ]
        },
        {
          "name": "stdout",
          "output_type": "stream",
          "text": [
            "AVG MAE:  5.637, AVG RMSE:  6.967, "
          ]
        },
        {
          "name": "stderr",
          "output_type": "stream",
          "text": [
            "\r  0%|          | 0/15 [00:00<?, ?it/s]"
          ]
        },
        {
          "name": "stdout",
          "output_type": "stream",
          "text": [
            "Sensor:  773869, "
          ]
        },
        {
          "name": "stderr",
          "output_type": "stream",
          "text": [
            "\r  7%|▋         | 1/15 [00:51<12:04, 51.75s/it]"
          ]
        },
        {
          "name": "stdout",
          "output_type": "stream",
          "text": [
            "AVG MAE:  3.663, AVG RMSE:  4.572, Sensor:  767541, "
          ]
        },
        {
          "name": "stderr",
          "output_type": "stream",
          "text": [
            "\r 13%|█▎        | 2/15 [01:53<12:26, 57.46s/it]"
          ]
        },
        {
          "name": "stdout",
          "output_type": "stream",
          "text": [
            "AVG MAE:  2.814, AVG RMSE:  3.702, Sensor:  767542, "
          ]
        },
        {
          "name": "stderr",
          "output_type": "stream",
          "text": [
            "\r 20%|██        | 3/15 [03:18<14:00, 70.07s/it]"
          ]
        },
        {
          "name": "stdout",
          "output_type": "stream",
          "text": [
            "AVG MAE:  3.548, AVG RMSE:  4.574, Sensor:  717447, "
          ]
        },
        {
          "name": "stderr",
          "output_type": "stream",
          "text": [
            "\r 27%|██▋       | 4/15 [04:05<11:10, 60.99s/it]"
          ]
        },
        {
          "name": "stdout",
          "output_type": "stream",
          "text": [
            "AVG MAE:  4.974, AVG RMSE:  6.149, Sensor:  717446, "
          ]
        },
        {
          "name": "stderr",
          "output_type": "stream",
          "text": [
            "\r 33%|███▎      | 5/15 [04:36<08:21, 50.19s/it]"
          ]
        },
        {
          "name": "stdout",
          "output_type": "stream",
          "text": [
            "AVG MAE:  6.719, AVG RMSE:  8.201, Sensor:  717445, "
          ]
        },
        {
          "name": "stderr",
          "output_type": "stream",
          "text": [
            "\r 40%|████      | 6/15 [05:18<07:08, 47.60s/it]"
          ]
        },
        {
          "name": "stdout",
          "output_type": "stream",
          "text": [
            "AVG MAE:  6.1, AVG RMSE:  7.48, Sensor:  773062, "
          ]
        },
        {
          "name": "stderr",
          "output_type": "stream",
          "text": [
            "\r 47%|████▋     | 7/15 [06:19<06:54, 51.84s/it]"
          ]
        },
        {
          "name": "stdout",
          "output_type": "stream",
          "text": [
            "AVG MAE:  4.838, AVG RMSE:  6.073, Sensor:  767620, "
          ]
        },
        {
          "name": "stderr",
          "output_type": "stream",
          "text": [
            "\r 53%|█████▎    | 8/15 [07:08<05:57, 51.02s/it]"
          ]
        },
        {
          "name": "stdout",
          "output_type": "stream",
          "text": [
            "AVG MAE:  2.99, AVG RMSE:  3.9, Sensor:  737529, "
          ]
        },
        {
          "name": "stderr",
          "output_type": "stream",
          "text": [
            "\r 60%|██████    | 9/15 [07:59<05:05, 50.92s/it]"
          ]
        },
        {
          "name": "stdout",
          "output_type": "stream",
          "text": [
            "AVG MAE:  4.999, AVG RMSE:  6.237, Sensor:  717816, "
          ]
        },
        {
          "name": "stderr",
          "output_type": "stream",
          "text": [
            "\r 67%|██████▋   | 10/15 [08:54<04:20, 52.08s/it]"
          ]
        },
        {
          "name": "stdout",
          "output_type": "stream",
          "text": [
            "AVG MAE:  5.059, AVG RMSE:  6.375, Sensor:  765604, "
          ]
        },
        {
          "name": "stderr",
          "output_type": "stream",
          "text": [
            "\r 73%|███████▎  | 11/15 [09:42<03:24, 51.05s/it]"
          ]
        },
        {
          "name": "stdout",
          "output_type": "stream",
          "text": [
            "AVG MAE:  4.679, AVG RMSE:  5.82, Sensor:  767471, "
          ]
        },
        {
          "name": "stderr",
          "output_type": "stream",
          "text": [
            "\r 80%|████████  | 12/15 [10:28<02:28, 49.42s/it]"
          ]
        },
        {
          "name": "stdout",
          "output_type": "stream",
          "text": [
            "AVG MAE:  4.224, AVG RMSE:  5.416, Sensor:  716339, "
          ]
        },
        {
          "name": "stderr",
          "output_type": "stream",
          "text": [
            "\r 87%|████████▋ | 13/15 [10:56<01:25, 42.96s/it]"
          ]
        },
        {
          "name": "stdout",
          "output_type": "stream",
          "text": [
            "AVG MAE:  6.573, AVG RMSE:  8.174, Sensor:  773906, "
          ]
        },
        {
          "name": "stderr",
          "output_type": "stream",
          "text": [
            "\r 93%|█████████▎| 14/15 [11:54<00:47, 47.33s/it]"
          ]
        },
        {
          "name": "stdout",
          "output_type": "stream",
          "text": [
            "AVG MAE:  5.328, AVG RMSE:  6.744, Sensor:  765273, "
          ]
        },
        {
          "name": "stderr",
          "output_type": "stream",
          "text": [
            "100%|██████████| 15/15 [12:43<00:00, 50.87s/it]"
          ]
        },
        {
          "name": "stdout",
          "output_type": "stream",
          "text": [
            "AVG MAE:  5.636, AVG RMSE:  6.966, Hyper param C selected will be : 15.0\n"
          ]
        },
        {
          "name": "stderr",
          "output_type": "stream",
          "text": [
            "\n"
          ]
        }
      ]
    },
    {
      "cell_type": "code",
      "metadata": {
        "colab": {
          "base_uri": "https://localhost:8080/"
        },
        "id": "UifkF4bBYhNd",
        "outputId": "30eca11e-13da-4831-9803-e69a45a08c56"
      },
      "source": [
        "AvgErrorHyperParam = pd.read_pickle(\"/content/drive/MyDrive/Traffic Prediction/Results/AvgErrorHyperParam.pkl\")\n",
        "AvgErrorHyperParam = np.array(AvgErrorHyperParam)\n",
        "\n",
        "index = np.argmin(AvgErrorHyperParam[:,1])\n",
        "print(\"Hyper param C selected will be : {}\".format(AvgErrorHyperParam[index][0]))\n",
        "\n",
        "SelectedC = AvgErrorHyperParam[index][0]"
      ],
      "execution_count": null,
      "outputs": [
        {
          "output_type": "stream",
          "name": "stdout",
          "text": [
            "Hyper param C selected will be : 15.0\n"
          ]
        }
      ]
    },
    {
      "cell_type": "code",
      "metadata": {
        "colab": {
          "base_uri": "https://localhost:8080/"
        },
        "id": "lQ3PViDWB__i",
        "outputId": "430f42ca-fd4a-42b9-ee86-6f89db013d40"
      },
      "source": [
        "\n",
        "#Running on Testing Split with selected Hyper Param\n",
        "\n",
        "MaeData = list()\n",
        "RmseData = list()\n",
        "for i in tqdm(range(len(sensor_list_la))):\n",
        "    print(\"Sensor: \", sensor_list_la[i], end=\", \")\n",
        "    train_X = train_LA[\"x\"][:, :, i, 0]\n",
        "    train_y = train_LA[\"y\"][:, :, i, 0]\n",
        "    test_X = test_LA[\"x\"][:, :, i, 0]\n",
        "    test_y = test_LA[\"y\"][:, :, i, 0]\n",
        "    regr = make_pipeline(StandardScaler(), MultiOutputRegressor(LinearSVR(C=SelectedC, max_iter=SelectedC*5000)))\n",
        "    regr = regr.fit(train_X, train_y)\n",
        "    prediction = regr.predict(test_X)\n",
        "    mae, rmse, mape = [], [], []\n",
        "    for pred, gt in zip(prediction, test_y):\n",
        "        mae.append(mean_absolute_error(pred, gt))\n",
        "        rmse.append(np.sqrt(mean_squared_error(pred, gt)))\n",
        "    MaeData.append(round(sum(mae) / len(mae), 3))\n",
        "    RmseData.append(round(sum(rmse) / len(rmse), 3))\n",
        "    print(\"AVG MAE: \", round(sum(mae) / len(mae), 3), end=\", \")\n",
        "    print(\"AVG RMSE: \", round(sum(rmse) / len(rmse), 3), end=\", \")\n",
        "\n",
        "import pickle\n",
        "\n",
        "with open('/content/drive/MyDrive/Traffic Prediction/Results/SVRErrorData.pkl', 'wb') as f:\n",
        "  pickle.dump([MaeData, RmseData], f)\n"
      ],
      "execution_count": null,
      "outputs": [
        {
          "output_type": "stream",
          "name": "stderr",
          "text": [
            "\r  0%|          | 0/207 [00:00<?, ?it/s]"
          ]
        },
        {
          "output_type": "stream",
          "name": "stdout",
          "text": [
            "Sensor:  773869, "
          ]
        },
        {
          "output_type": "stream",
          "name": "stderr",
          "text": [
            "\r  0%|          | 1/207 [00:58<3:19:40, 58.16s/it]"
          ]
        },
        {
          "output_type": "stream",
          "name": "stdout",
          "text": [
            "AVG MAE:  5.183, AVG RMSE:  6.537, Sensor:  767541, "
          ]
        },
        {
          "output_type": "stream",
          "name": "stderr",
          "text": [
            "\r  1%|          | 2/207 [02:09<3:44:16, 65.64s/it]"
          ]
        },
        {
          "output_type": "stream",
          "name": "stdout",
          "text": [
            "AVG MAE:  3.541, AVG RMSE:  4.606, Sensor:  767542, "
          ]
        },
        {
          "output_type": "stream",
          "name": "stderr",
          "text": [
            "\r  1%|▏         | 3/207 [03:41<4:24:12, 77.71s/it]"
          ]
        },
        {
          "output_type": "stream",
          "name": "stdout",
          "text": [
            "AVG MAE:  4.547, AVG RMSE:  5.821, Sensor:  717447, "
          ]
        },
        {
          "output_type": "stream",
          "name": "stderr",
          "text": [
            "\r  2%|▏         | 4/207 [04:32<3:47:12, 67.16s/it]"
          ]
        },
        {
          "output_type": "stream",
          "name": "stdout",
          "text": [
            "AVG MAE:  4.986, AVG RMSE:  6.167, Sensor:  717446, "
          ]
        },
        {
          "output_type": "stream",
          "name": "stderr",
          "text": [
            "\r  2%|▏         | 5/207 [05:06<3:06:51, 55.50s/it]"
          ]
        },
        {
          "output_type": "stream",
          "name": "stdout",
          "text": [
            "AVG MAE:  6.376, AVG RMSE:  7.68, Sensor:  717445, "
          ]
        },
        {
          "output_type": "stream",
          "name": "stderr",
          "text": [
            "\r  3%|▎         | 6/207 [05:49<2:50:51, 51.00s/it]"
          ]
        },
        {
          "output_type": "stream",
          "name": "stdout",
          "text": [
            "AVG MAE:  6.019, AVG RMSE:  7.41, Sensor:  773062, "
          ]
        },
        {
          "output_type": "stream",
          "name": "stderr",
          "text": [
            "\r  3%|▎         | 7/207 [06:45<2:56:18, 52.89s/it]"
          ]
        },
        {
          "output_type": "stream",
          "name": "stdout",
          "text": [
            "AVG MAE:  5.121, AVG RMSE:  6.381, Sensor:  767620, "
          ]
        },
        {
          "output_type": "stream",
          "name": "stderr",
          "text": [
            "\r  4%|▍         | 8/207 [07:35<2:52:16, 51.94s/it]"
          ]
        },
        {
          "output_type": "stream",
          "name": "stdout",
          "text": [
            "AVG MAE:  3.527, AVG RMSE:  4.562, Sensor:  737529, "
          ]
        },
        {
          "output_type": "stream",
          "name": "stderr",
          "text": [
            "\r  4%|▍         | 9/207 [08:30<2:54:23, 52.84s/it]"
          ]
        },
        {
          "output_type": "stream",
          "name": "stdout",
          "text": [
            "AVG MAE:  5.373, AVG RMSE:  6.695, Sensor:  717816, "
          ]
        },
        {
          "output_type": "stream",
          "name": "stderr",
          "text": [
            "\r  5%|▍         | 10/207 [09:27<2:57:09, 53.96s/it]"
          ]
        },
        {
          "output_type": "stream",
          "name": "stdout",
          "text": [
            "AVG MAE:  5.863, AVG RMSE:  7.351, Sensor:  765604, "
          ]
        },
        {
          "output_type": "stream",
          "name": "stderr",
          "text": [
            "\r  5%|▌         | 11/207 [10:17<2:52:41, 52.87s/it]"
          ]
        },
        {
          "output_type": "stream",
          "name": "stdout",
          "text": [
            "AVG MAE:  3.984, AVG RMSE:  5.083, Sensor:  767471, "
          ]
        },
        {
          "output_type": "stream",
          "name": "stderr",
          "text": [
            "\r  6%|▌         | 12/207 [11:06<2:47:44, 51.61s/it]"
          ]
        },
        {
          "output_type": "stream",
          "name": "stdout",
          "text": [
            "AVG MAE:  4.798, AVG RMSE:  6.273, Sensor:  716339, "
          ]
        },
        {
          "output_type": "stream",
          "name": "stderr",
          "text": [
            "\r  6%|▋         | 13/207 [11:36<2:26:01, 45.16s/it]"
          ]
        },
        {
          "output_type": "stream",
          "name": "stdout",
          "text": [
            "AVG MAE:  6.086, AVG RMSE:  7.489, Sensor:  773906, "
          ]
        },
        {
          "output_type": "stream",
          "name": "stderr",
          "text": [
            "\r  7%|▋         | 14/207 [12:37<2:40:32, 49.91s/it]"
          ]
        },
        {
          "output_type": "stream",
          "name": "stdout",
          "text": [
            "AVG MAE:  5.253, AVG RMSE:  6.767, Sensor:  765273, "
          ]
        },
        {
          "output_type": "stream",
          "name": "stderr",
          "text": [
            "\r  7%|▋         | 15/207 [13:31<2:43:28, 51.08s/it]"
          ]
        },
        {
          "output_type": "stream",
          "name": "stdout",
          "text": [
            "AVG MAE:  6.444, AVG RMSE:  7.932, Sensor:  716331, "
          ]
        },
        {
          "output_type": "stream",
          "name": "stderr",
          "text": [
            "\r  8%|▊         | 16/207 [14:10<2:30:53, 47.40s/it]"
          ]
        },
        {
          "output_type": "stream",
          "name": "stdout",
          "text": [
            "AVG MAE:  6.271, AVG RMSE:  7.55, Sensor:  771667, "
          ]
        },
        {
          "output_type": "stream",
          "name": "stderr",
          "text": [
            "\r  8%|▊         | 17/207 [15:21<2:53:06, 54.67s/it]"
          ]
        },
        {
          "output_type": "stream",
          "name": "stdout",
          "text": [
            "AVG MAE:  2.577, AVG RMSE:  3.217, Sensor:  716337, "
          ]
        },
        {
          "output_type": "stream",
          "name": "stderr",
          "text": [
            "\r  9%|▊         | 18/207 [16:09<2:45:35, 52.57s/it]"
          ]
        },
        {
          "output_type": "stream",
          "name": "stdout",
          "text": [
            "AVG MAE:  5.383, AVG RMSE:  6.744, Sensor:  769953, "
          ]
        },
        {
          "output_type": "stream",
          "name": "stderr",
          "text": [
            "\r  9%|▉         | 19/207 [16:53<2:36:22, 49.91s/it]"
          ]
        },
        {
          "output_type": "stream",
          "name": "stdout",
          "text": [
            "AVG MAE:  4.054, AVG RMSE:  5.05, Sensor:  769402, "
          ]
        },
        {
          "output_type": "stream",
          "name": "stderr",
          "text": [
            "\r 10%|▉         | 20/207 [17:47<2:40:06, 51.37s/it]"
          ]
        },
        {
          "output_type": "stream",
          "name": "stdout",
          "text": [
            "AVG MAE:  4.614, AVG RMSE:  5.761, Sensor:  769403, "
          ]
        },
        {
          "output_type": "stream",
          "name": "stderr",
          "text": [
            "\r 10%|█         | 21/207 [18:49<2:48:38, 54.40s/it]"
          ]
        },
        {
          "output_type": "stream",
          "name": "stdout",
          "text": [
            "AVG MAE:  5.174, AVG RMSE:  6.487, Sensor:  769819, "
          ]
        },
        {
          "output_type": "stream",
          "name": "stderr",
          "text": [
            "\r 11%|█         | 22/207 [19:39<2:44:01, 53.20s/it]"
          ]
        },
        {
          "output_type": "stream",
          "name": "stdout",
          "text": [
            "AVG MAE:  4.072, AVG RMSE:  5.113, Sensor:  769405, "
          ]
        },
        {
          "output_type": "stream",
          "name": "stderr",
          "text": [
            "\r 11%|█         | 23/207 [20:13<2:25:31, 47.45s/it]"
          ]
        },
        {
          "output_type": "stream",
          "name": "stdout",
          "text": [
            "AVG MAE:  4.534, AVG RMSE:  5.557, Sensor:  716941, "
          ]
        },
        {
          "output_type": "stream",
          "name": "stderr",
          "text": [
            "\r 12%|█▏        | 24/207 [20:56<2:20:37, 46.11s/it]"
          ]
        },
        {
          "output_type": "stream",
          "name": "stdout",
          "text": [
            "AVG MAE:  7.297, AVG RMSE:  9.06, Sensor:  717578, "
          ]
        },
        {
          "output_type": "stream",
          "name": "stderr",
          "text": [
            "\r 12%|█▏        | 25/207 [21:48<2:24:41, 47.70s/it]"
          ]
        },
        {
          "output_type": "stream",
          "name": "stdout",
          "text": [
            "AVG MAE:  4.592, AVG RMSE:  5.835, Sensor:  716960, "
          ]
        },
        {
          "output_type": "stream",
          "name": "stderr",
          "text": [
            "\r 13%|█▎        | 26/207 [22:23<2:12:59, 44.08s/it]"
          ]
        },
        {
          "output_type": "stream",
          "name": "stdout",
          "text": [
            "AVG MAE:  7.663, AVG RMSE:  9.29, Sensor:  717804, "
          ]
        },
        {
          "output_type": "stream",
          "name": "stderr",
          "text": [
            "\r 13%|█▎        | 27/207 [22:53<1:59:27, 39.82s/it]"
          ]
        },
        {
          "output_type": "stream",
          "name": "stdout",
          "text": [
            "AVG MAE:  6.152, AVG RMSE:  7.575, Sensor:  767572, "
          ]
        },
        {
          "output_type": "stream",
          "name": "stderr",
          "text": [
            "\r 14%|█▎        | 28/207 [23:53<2:16:16, 45.68s/it]"
          ]
        },
        {
          "output_type": "stream",
          "name": "stdout",
          "text": [
            "AVG MAE:  3.471, AVG RMSE:  4.517, Sensor:  767573, "
          ]
        },
        {
          "output_type": "stream",
          "name": "stderr",
          "text": [
            "\r 14%|█▍        | 29/207 [25:14<2:47:08, 56.34s/it]"
          ]
        },
        {
          "output_type": "stream",
          "name": "stdout",
          "text": [
            "AVG MAE:  4.231, AVG RMSE:  5.519, Sensor:  773012, "
          ]
        },
        {
          "output_type": "stream",
          "name": "stderr",
          "text": [
            "\r 14%|█▍        | 30/207 [26:32<3:05:45, 62.97s/it]"
          ]
        },
        {
          "output_type": "stream",
          "name": "stdout",
          "text": [
            "AVG MAE:  4.055, AVG RMSE:  5.099, Sensor:  773013, "
          ]
        },
        {
          "output_type": "stream",
          "name": "stderr",
          "text": [
            "\r 15%|█▍        | 31/207 [27:01<2:34:44, 52.76s/it]"
          ]
        },
        {
          "output_type": "stream",
          "name": "stdout",
          "text": [
            "AVG MAE:  6.752, AVG RMSE:  8.575, Sensor:  764424, "
          ]
        },
        {
          "output_type": "stream",
          "name": "stderr",
          "text": [
            "\r 15%|█▌        | 32/207 [28:00<2:38:54, 54.48s/it]"
          ]
        },
        {
          "output_type": "stream",
          "name": "stdout",
          "text": [
            "AVG MAE:  5.216, AVG RMSE:  6.703, Sensor:  769388, "
          ]
        },
        {
          "output_type": "stream",
          "name": "stderr",
          "text": [
            "\r 16%|█▌        | 33/207 [28:43<2:28:42, 51.28s/it]"
          ]
        },
        {
          "output_type": "stream",
          "name": "stdout",
          "text": [
            "AVG MAE:  6.073, AVG RMSE:  7.698, Sensor:  716328, "
          ]
        },
        {
          "output_type": "stream",
          "name": "stderr",
          "text": [
            "\r 16%|█▋        | 34/207 [29:35<2:27:44, 51.24s/it]"
          ]
        },
        {
          "output_type": "stream",
          "name": "stdout",
          "text": [
            "AVG MAE:  5.061, AVG RMSE:  6.231, Sensor:  717819, "
          ]
        },
        {
          "output_type": "stream",
          "name": "stderr",
          "text": [
            "\r 17%|█▋        | 35/207 [30:37<2:36:53, 54.73s/it]"
          ]
        },
        {
          "output_type": "stream",
          "name": "stdout",
          "text": [
            "AVG MAE:  4.824, AVG RMSE:  6.144, Sensor:  769941, "
          ]
        },
        {
          "output_type": "stream",
          "name": "stderr",
          "text": [
            "\r 17%|█▋        | 36/207 [31:25<2:30:10, 52.69s/it]"
          ]
        },
        {
          "output_type": "stream",
          "name": "stdout",
          "text": [
            "AVG MAE:  4.142, AVG RMSE:  5.196, Sensor:  760987, "
          ]
        },
        {
          "output_type": "stream",
          "name": "stderr",
          "text": [
            "\r 18%|█▊        | 37/207 [32:07<2:19:57, 49.40s/it]"
          ]
        },
        {
          "output_type": "stream",
          "name": "stdout",
          "text": [
            "AVG MAE:  5.677, AVG RMSE:  7.302, Sensor:  718204, "
          ]
        },
        {
          "output_type": "stream",
          "name": "stderr",
          "text": [
            "\r 18%|█▊        | 38/207 [32:51<2:14:52, 47.88s/it]"
          ]
        },
        {
          "output_type": "stream",
          "name": "stdout",
          "text": [
            "AVG MAE:  4.928, AVG RMSE:  6.122, Sensor:  718045, "
          ]
        },
        {
          "output_type": "stream",
          "name": "stderr",
          "text": [
            "\r 19%|█▉        | 39/207 [33:21<1:59:00, 42.50s/it]"
          ]
        },
        {
          "output_type": "stream",
          "name": "stdout",
          "text": [
            "AVG MAE:  8.711, AVG RMSE:  10.74, Sensor:  769418, "
          ]
        },
        {
          "output_type": "stream",
          "name": "stderr",
          "text": [
            "\r 19%|█▉        | 40/207 [34:02<1:56:30, 41.86s/it]"
          ]
        },
        {
          "output_type": "stream",
          "name": "stdout",
          "text": [
            "AVG MAE:  4.39, AVG RMSE:  5.535, Sensor:  768066, "
          ]
        },
        {
          "output_type": "stream",
          "name": "stderr",
          "text": [
            "\r 20%|█▉        | 41/207 [35:15<2:21:50, 51.27s/it]"
          ]
        },
        {
          "output_type": "stream",
          "name": "stdout",
          "text": [
            "AVG MAE:  5.041, AVG RMSE:  6.351, Sensor:  772140, "
          ]
        },
        {
          "output_type": "stream",
          "name": "stderr",
          "text": [
            "\r 20%|██        | 42/207 [36:00<2:15:35, 49.30s/it]"
          ]
        },
        {
          "output_type": "stream",
          "name": "stdout",
          "text": [
            "AVG MAE:  5.631, AVG RMSE:  7.021, Sensor:  773927, "
          ]
        },
        {
          "output_type": "stream",
          "name": "stderr",
          "text": [
            "\r 21%|██        | 43/207 [36:39<2:06:38, 46.33s/it]"
          ]
        },
        {
          "output_type": "stream",
          "name": "stdout",
          "text": [
            "AVG MAE:  5.952, AVG RMSE:  7.487, Sensor:  760024, "
          ]
        },
        {
          "output_type": "stream",
          "name": "stderr",
          "text": [
            "\r 21%|██▏       | 44/207 [37:21<2:02:29, 45.09s/it]"
          ]
        },
        {
          "output_type": "stream",
          "name": "stdout",
          "text": [
            "AVG MAE:  6.29, AVG RMSE:  7.795, Sensor:  774012, "
          ]
        },
        {
          "output_type": "stream",
          "name": "stderr",
          "text": [
            "\r 22%|██▏       | 45/207 [38:16<2:09:36, 48.01s/it]"
          ]
        },
        {
          "output_type": "stream",
          "name": "stdout",
          "text": [
            "AVG MAE:  3.615, AVG RMSE:  4.744, Sensor:  774011, "
          ]
        },
        {
          "output_type": "stream",
          "name": "stderr",
          "text": [
            "\r 22%|██▏       | 46/207 [39:09<2:12:45, 49.48s/it]"
          ]
        },
        {
          "output_type": "stream",
          "name": "stdout",
          "text": [
            "AVG MAE:  3.759, AVG RMSE:  4.921, Sensor:  767609, "
          ]
        },
        {
          "output_type": "stream",
          "name": "stderr",
          "text": [
            "\r 23%|██▎       | 47/207 [39:55<2:08:58, 48.37s/it]"
          ]
        },
        {
          "output_type": "stream",
          "name": "stdout",
          "text": [
            "AVG MAE:  4.459, AVG RMSE:  5.724, Sensor:  769359, "
          ]
        },
        {
          "output_type": "stream",
          "name": "stderr",
          "text": [
            "\r 23%|██▎       | 48/207 [40:34<2:01:05, 45.70s/it]"
          ]
        },
        {
          "output_type": "stream",
          "name": "stdout",
          "text": [
            "AVG MAE:  6.724, AVG RMSE:  8.239, Sensor:  760650, "
          ]
        },
        {
          "output_type": "stream",
          "name": "stderr",
          "text": [
            "\r 24%|██▎       | 49/207 [41:14<1:55:30, 43.86s/it]"
          ]
        },
        {
          "output_type": "stream",
          "name": "stdout",
          "text": [
            "AVG MAE:  5.769, AVG RMSE:  7.115, Sensor:  716956, "
          ]
        },
        {
          "output_type": "stream",
          "name": "stderr",
          "text": [
            "\r 24%|██▍       | 50/207 [42:01<1:57:35, 44.94s/it]"
          ]
        },
        {
          "output_type": "stream",
          "name": "stdout",
          "text": [
            "AVG MAE:  5.184, AVG RMSE:  6.514, Sensor:  769831, "
          ]
        },
        {
          "output_type": "stream",
          "name": "stderr",
          "text": [
            "\r 25%|██▍       | 51/207 [42:52<2:01:23, 46.69s/it]"
          ]
        },
        {
          "output_type": "stream",
          "name": "stdout",
          "text": [
            "AVG MAE:  4.115, AVG RMSE:  5.133, Sensor:  761604, "
          ]
        },
        {
          "output_type": "stream",
          "name": "stderr",
          "text": [
            "\r 25%|██▌       | 52/207 [43:22<1:47:15, 41.52s/it]"
          ]
        },
        {
          "output_type": "stream",
          "name": "stdout",
          "text": [
            "AVG MAE:  6.591, AVG RMSE:  8.045, Sensor:  717495, "
          ]
        },
        {
          "output_type": "stream",
          "name": "stderr",
          "text": [
            "\r 26%|██▌       | 53/207 [44:12<1:53:05, 44.06s/it]"
          ]
        },
        {
          "output_type": "stream",
          "name": "stdout",
          "text": [
            "AVG MAE:  6.708, AVG RMSE:  8.26, Sensor:  716554, "
          ]
        },
        {
          "output_type": "stream",
          "name": "stderr",
          "text": [
            "\r 26%|██▌       | 54/207 [44:45<1:44:14, 40.88s/it]"
          ]
        },
        {
          "output_type": "stream",
          "name": "stdout",
          "text": [
            "AVG MAE:  5.145, AVG RMSE:  6.302, Sensor:  773953, "
          ]
        },
        {
          "output_type": "stream",
          "name": "stderr",
          "text": [
            "\r 27%|██▋       | 55/207 [45:39<1:53:47, 44.92s/it]"
          ]
        },
        {
          "output_type": "stream",
          "name": "stdout",
          "text": [
            "AVG MAE:  5.236, AVG RMSE:  6.484, Sensor:  767470, "
          ]
        },
        {
          "output_type": "stream",
          "name": "stderr",
          "text": [
            "\r 27%|██▋       | 56/207 [46:33<1:59:44, 47.58s/it]"
          ]
        },
        {
          "output_type": "stream",
          "name": "stdout",
          "text": [
            "AVG MAE:  4.028, AVG RMSE:  5.225, Sensor:  716955, "
          ]
        },
        {
          "output_type": "stream",
          "name": "stderr",
          "text": [
            "\r 28%|██▊       | 57/207 [47:12<1:52:28, 44.99s/it]"
          ]
        },
        {
          "output_type": "stream",
          "name": "stdout",
          "text": [
            "AVG MAE:  5.247, AVG RMSE:  6.425, Sensor:  764949, "
          ]
        },
        {
          "output_type": "stream",
          "name": "stderr",
          "text": [
            "\r 28%|██▊       | 58/207 [48:18<2:07:34, 51.38s/it]"
          ]
        },
        {
          "output_type": "stream",
          "name": "stdout",
          "text": [
            "AVG MAE:  4.212, AVG RMSE:  5.252, Sensor:  773954, "
          ]
        },
        {
          "output_type": "stream",
          "name": "stderr",
          "text": [
            "\r 29%|██▊       | 59/207 [49:04<2:02:17, 49.58s/it]"
          ]
        },
        {
          "output_type": "stream",
          "name": "stdout",
          "text": [
            "AVG MAE:  5.541, AVG RMSE:  6.889, Sensor:  767366, "
          ]
        },
        {
          "output_type": "stream",
          "name": "stderr",
          "text": [
            "\r 29%|██▉       | 60/207 [50:02<2:07:34, 52.07s/it]"
          ]
        },
        {
          "output_type": "stream",
          "name": "stdout",
          "text": [
            "AVG MAE:  4.403, AVG RMSE:  5.48, Sensor:  769444, "
          ]
        },
        {
          "output_type": "stream",
          "name": "stderr",
          "text": [
            "\r 29%|██▉       | 61/207 [50:49<2:03:01, 50.56s/it]"
          ]
        },
        {
          "output_type": "stream",
          "name": "stdout",
          "text": [
            "AVG MAE:  5.674, AVG RMSE:  7.116, Sensor:  773939, "
          ]
        },
        {
          "output_type": "stream",
          "name": "stderr",
          "text": [
            "\r 30%|██▉       | 62/207 [51:23<1:50:24, 45.68s/it]"
          ]
        },
        {
          "output_type": "stream",
          "name": "stdout",
          "text": [
            "AVG MAE:  8.27, AVG RMSE:  10.241, Sensor:  774067, "
          ]
        },
        {
          "output_type": "stream",
          "name": "stderr",
          "text": [
            "\r 30%|███       | 63/207 [51:58<1:41:59, 42.50s/it]"
          ]
        },
        {
          "output_type": "stream",
          "name": "stdout",
          "text": [
            "AVG MAE:  8.938, AVG RMSE:  11.013, Sensor:  769443, "
          ]
        },
        {
          "output_type": "stream",
          "name": "stderr",
          "text": [
            "\r 31%|███       | 64/207 [52:42<1:42:29, 43.01s/it]"
          ]
        },
        {
          "output_type": "stream",
          "name": "stdout",
          "text": [
            "AVG MAE:  6.102, AVG RMSE:  7.669, Sensor:  767750, "
          ]
        },
        {
          "output_type": "stream",
          "name": "stderr",
          "text": [
            "\r 31%|███▏      | 65/207 [54:02<2:07:37, 53.93s/it]"
          ]
        },
        {
          "output_type": "stream",
          "name": "stdout",
          "text": [
            "AVG MAE:  4.326, AVG RMSE:  5.548, Sensor:  767751, "
          ]
        },
        {
          "output_type": "stream",
          "name": "stderr",
          "text": [
            "\r 32%|███▏      | 66/207 [54:47<2:00:25, 51.24s/it]"
          ]
        },
        {
          "output_type": "stream",
          "name": "stdout",
          "text": [
            "AVG MAE:  4.828, AVG RMSE:  6.067, Sensor:  767610, "
          ]
        },
        {
          "output_type": "stream",
          "name": "stderr",
          "text": [
            "\r 32%|███▏      | 67/207 [55:46<2:05:10, 53.65s/it]"
          ]
        },
        {
          "output_type": "stream",
          "name": "stdout",
          "text": [
            "AVG MAE:  4.542, AVG RMSE:  5.971, Sensor:  773880, "
          ]
        },
        {
          "output_type": "stream",
          "name": "stderr",
          "text": [
            "\r 33%|███▎      | 68/207 [57:07<2:23:29, 61.94s/it]"
          ]
        },
        {
          "output_type": "stream",
          "name": "stdout",
          "text": [
            "AVG MAE:  4.574, AVG RMSE:  6.024, Sensor:  764766, "
          ]
        },
        {
          "output_type": "stream",
          "name": "stderr",
          "text": [
            "\r 33%|███▎      | 69/207 [58:22<2:31:08, 65.71s/it]"
          ]
        },
        {
          "output_type": "stream",
          "name": "stdout",
          "text": [
            "AVG MAE:  4.948, AVG RMSE:  6.184, Sensor:  717497, "
          ]
        },
        {
          "output_type": "stream",
          "name": "stderr",
          "text": [
            "\r 34%|███▍      | 70/207 [59:13<2:19:56, 61.29s/it]"
          ]
        },
        {
          "output_type": "stream",
          "name": "stdout",
          "text": [
            "AVG MAE:  6.703, AVG RMSE:  8.252, Sensor:  717490, "
          ]
        },
        {
          "output_type": "stream",
          "name": "stderr",
          "text": [
            "\r 34%|███▍      | 71/207 [1:00:23<2:24:55, 63.94s/it]"
          ]
        },
        {
          "output_type": "stream",
          "name": "stdout",
          "text": [
            "AVG MAE:  3.692, AVG RMSE:  4.607, Sensor:  717491, "
          ]
        },
        {
          "output_type": "stream",
          "name": "stderr",
          "text": [
            "\r 35%|███▍      | 72/207 [1:01:05<2:09:20, 57.48s/it]"
          ]
        },
        {
          "output_type": "stream",
          "name": "stdout",
          "text": [
            "AVG MAE:  3.106, AVG RMSE:  3.922, Sensor:  717492, "
          ]
        },
        {
          "output_type": "stream",
          "name": "stderr",
          "text": [
            "\r 35%|███▌      | 73/207 [1:01:43<1:55:15, 51.61s/it]"
          ]
        },
        {
          "output_type": "stream",
          "name": "stdout",
          "text": [
            "AVG MAE:  7.155, AVG RMSE:  8.725, Sensor:  717493, "
          ]
        },
        {
          "output_type": "stream",
          "name": "stderr",
          "text": [
            "\r 36%|███▌      | 74/207 [1:02:24<1:47:08, 48.33s/it]"
          ]
        },
        {
          "output_type": "stream",
          "name": "stdout",
          "text": [
            "AVG MAE:  6.679, AVG RMSE:  8.103, Sensor:  765176, "
          ]
        },
        {
          "output_type": "stream",
          "name": "stderr",
          "text": [
            "\r 36%|███▌      | 75/207 [1:03:56<2:15:01, 61.38s/it]"
          ]
        },
        {
          "output_type": "stream",
          "name": "stdout",
          "text": [
            "AVG MAE:  4.439, AVG RMSE:  5.603, Sensor:  717498, "
          ]
        },
        {
          "output_type": "stream",
          "name": "stderr",
          "text": [
            "\r 37%|███▋      | 76/207 [1:04:47<2:07:42, 58.49s/it]"
          ]
        },
        {
          "output_type": "stream",
          "name": "stdout",
          "text": [
            "AVG MAE:  5.587, AVG RMSE:  6.891, Sensor:  717499, "
          ]
        },
        {
          "output_type": "stream",
          "name": "stderr",
          "text": [
            "\r 37%|███▋      | 77/207 [1:05:27<1:54:35, 52.89s/it]"
          ]
        },
        {
          "output_type": "stream",
          "name": "stdout",
          "text": [
            "AVG MAE:  6.737, AVG RMSE:  8.273, Sensor:  765171, "
          ]
        },
        {
          "output_type": "stream",
          "name": "stderr",
          "text": [
            "\r 38%|███▊      | 78/207 [1:06:22<1:54:42, 53.35s/it]"
          ]
        },
        {
          "output_type": "stream",
          "name": "stdout",
          "text": [
            "AVG MAE:  7.691, AVG RMSE:  9.704, Sensor:  718064, "
          ]
        },
        {
          "output_type": "stream",
          "name": "stderr",
          "text": [
            "\r 38%|███▊      | 79/207 [1:07:49<2:15:43, 63.62s/it]"
          ]
        },
        {
          "output_type": "stream",
          "name": "stdout",
          "text": [
            "AVG MAE:  4.973, AVG RMSE:  6.276, Sensor:  718066, "
          ]
        },
        {
          "output_type": "stream",
          "name": "stderr",
          "text": [
            "\r 39%|███▊      | 80/207 [1:09:21<2:32:47, 72.18s/it]"
          ]
        },
        {
          "output_type": "stream",
          "name": "stdout",
          "text": [
            "AVG MAE:  4.522, AVG RMSE:  5.79, Sensor:  765164, "
          ]
        },
        {
          "output_type": "stream",
          "name": "stderr",
          "text": [
            "\r 39%|███▉      | 81/207 [1:10:10<2:16:44, 65.11s/it]"
          ]
        },
        {
          "output_type": "stream",
          "name": "stdout",
          "text": [
            "AVG MAE:  5.416, AVG RMSE:  6.71, Sensor:  769431, "
          ]
        },
        {
          "output_type": "stream",
          "name": "stderr",
          "text": [
            "\r 40%|███▉      | 82/207 [1:10:51<2:00:23, 57.79s/it]"
          ]
        },
        {
          "output_type": "stream",
          "name": "stdout",
          "text": [
            "AVG MAE:  5.594, AVG RMSE:  6.908, Sensor:  769430, "
          ]
        },
        {
          "output_type": "stream",
          "name": "stderr",
          "text": [
            "\r 40%|████      | 83/207 [1:11:31<1:48:42, 52.60s/it]"
          ]
        },
        {
          "output_type": "stream",
          "name": "stdout",
          "text": [
            "AVG MAE:  5.514, AVG RMSE:  6.909, Sensor:  717610, "
          ]
        },
        {
          "output_type": "stream",
          "name": "stderr",
          "text": [
            "\r 41%|████      | 84/207 [1:12:39<1:57:18, 57.22s/it]"
          ]
        },
        {
          "output_type": "stream",
          "name": "stdout",
          "text": [
            "AVG MAE:  5.966, AVG RMSE:  7.546, Sensor:  767053, "
          ]
        },
        {
          "output_type": "stream",
          "name": "stderr",
          "text": [
            "\r 41%|████      | 85/207 [1:13:30<1:52:25, 55.29s/it]"
          ]
        },
        {
          "output_type": "stream",
          "name": "stdout",
          "text": [
            "AVG MAE:  5.358, AVG RMSE:  6.617, Sensor:  767621, "
          ]
        },
        {
          "output_type": "stream",
          "name": "stderr",
          "text": [
            "\r 42%|████▏     | 86/207 [1:14:33<1:56:15, 57.65s/it]"
          ]
        },
        {
          "output_type": "stream",
          "name": "stdout",
          "text": [
            "AVG MAE:  3.763, AVG RMSE:  4.889, Sensor:  772596, "
          ]
        },
        {
          "output_type": "stream",
          "name": "stderr",
          "text": [
            "\r 42%|████▏     | 87/207 [1:15:25<1:52:02, 56.02s/it]"
          ]
        },
        {
          "output_type": "stream",
          "name": "stdout",
          "text": [
            "AVG MAE:  5.926, AVG RMSE:  7.356, Sensor:  772597, "
          ]
        },
        {
          "output_type": "stream",
          "name": "stderr",
          "text": [
            "\r 43%|████▎     | 88/207 [1:16:17<1:48:49, 54.87s/it]"
          ]
        },
        {
          "output_type": "stream",
          "name": "stdout",
          "text": [
            "AVG MAE:  6.545, AVG RMSE:  8.133, Sensor:  767350, "
          ]
        },
        {
          "output_type": "stream",
          "name": "stderr",
          "text": [
            "\r 43%|████▎     | 89/207 [1:17:39<2:03:51, 62.98s/it]"
          ]
        },
        {
          "output_type": "stream",
          "name": "stdout",
          "text": [
            "AVG MAE:  4.885, AVG RMSE:  6.13, Sensor:  767351, "
          ]
        },
        {
          "output_type": "stream",
          "name": "stderr",
          "text": [
            "\r 43%|████▎     | 90/207 [1:18:52<2:08:35, 65.95s/it]"
          ]
        },
        {
          "output_type": "stream",
          "name": "stdout",
          "text": [
            "AVG MAE:  4.312, AVG RMSE:  5.396, Sensor:  716571, "
          ]
        },
        {
          "output_type": "stream",
          "name": "stderr",
          "text": [
            "\r 44%|████▍     | 91/207 [1:20:08<2:13:25, 69.01s/it]"
          ]
        },
        {
          "output_type": "stream",
          "name": "stdout",
          "text": [
            "AVG MAE:  4.364, AVG RMSE:  5.714, Sensor:  773023, "
          ]
        },
        {
          "output_type": "stream",
          "name": "stderr",
          "text": [
            "\r 44%|████▍     | 92/207 [1:20:46<1:54:15, 59.61s/it]"
          ]
        },
        {
          "output_type": "stream",
          "name": "stdout",
          "text": [
            "AVG MAE:  4.798, AVG RMSE:  5.783, Sensor:  767585, "
          ]
        },
        {
          "output_type": "stream",
          "name": "stderr",
          "text": [
            "\r 45%|████▍     | 93/207 [1:21:54<1:57:44, 61.97s/it]"
          ]
        },
        {
          "output_type": "stream",
          "name": "stdout",
          "text": [
            "AVG MAE:  3.96, AVG RMSE:  5.275, Sensor:  773024, "
          ]
        },
        {
          "output_type": "stream",
          "name": "stderr",
          "text": [
            "\r 45%|████▌     | 94/207 [1:23:08<2:03:41, 65.67s/it]"
          ]
        },
        {
          "output_type": "stream",
          "name": "stdout",
          "text": [
            "AVG MAE:  4.876, AVG RMSE:  6.098, Sensor:  717483, "
          ]
        },
        {
          "output_type": "stream",
          "name": "stderr",
          "text": [
            "\r 46%|████▌     | 95/207 [1:24:06<1:58:34, 63.52s/it]"
          ]
        },
        {
          "output_type": "stream",
          "name": "stdout",
          "text": [
            "AVG MAE:  4.448, AVG RMSE:  5.537, Sensor:  718379, "
          ]
        },
        {
          "output_type": "stream",
          "name": "stderr",
          "text": [
            "\r 46%|████▋     | 96/207 [1:24:59<1:51:21, 60.19s/it]"
          ]
        },
        {
          "output_type": "stream",
          "name": "stdout",
          "text": [
            "AVG MAE:  6.67, AVG RMSE:  8.22, Sensor:  717481, "
          ]
        },
        {
          "output_type": "stream",
          "name": "stderr",
          "text": [
            "\r 47%|████▋     | 97/207 [1:26:06<1:54:26, 62.43s/it]"
          ]
        },
        {
          "output_type": "stream",
          "name": "stdout",
          "text": [
            "AVG MAE:  8.033, AVG RMSE:  10.618, Sensor:  717480, "
          ]
        },
        {
          "output_type": "stream",
          "name": "stderr",
          "text": [
            "\r 47%|████▋     | 98/207 [1:27:20<1:59:40, 65.88s/it]"
          ]
        },
        {
          "output_type": "stream",
          "name": "stdout",
          "text": [
            "AVG MAE:  5.036, AVG RMSE:  6.403, Sensor:  717486, "
          ]
        },
        {
          "output_type": "stream",
          "name": "stderr",
          "text": [
            "\r 48%|████▊     | 99/207 [1:28:23<1:56:33, 64.75s/it]"
          ]
        },
        {
          "output_type": "stream",
          "name": "stdout",
          "text": [
            "AVG MAE:  5.07, AVG RMSE:  6.213, Sensor:  764120, "
          ]
        },
        {
          "output_type": "stream",
          "name": "stderr",
          "text": [
            "\r 48%|████▊     | 100/207 [1:29:39<2:01:35, 68.19s/it]"
          ]
        },
        {
          "output_type": "stream",
          "name": "stdout",
          "text": [
            "AVG MAE:  3.32, AVG RMSE:  4.351, Sensor:  772151, "
          ]
        },
        {
          "output_type": "stream",
          "name": "stderr",
          "text": [
            "\r 49%|████▉     | 101/207 [1:30:22<1:47:02, 60.59s/it]"
          ]
        },
        {
          "output_type": "stream",
          "name": "stdout",
          "text": [
            "AVG MAE:  7.129, AVG RMSE:  8.783, Sensor:  718371, "
          ]
        },
        {
          "output_type": "stream",
          "name": "stderr",
          "text": [
            "\r 49%|████▉     | 102/207 [1:31:07<1:38:03, 56.04s/it]"
          ]
        },
        {
          "output_type": "stream",
          "name": "stdout",
          "text": [
            "AVG MAE:  5.639, AVG RMSE:  6.963, Sensor:  717489, "
          ]
        },
        {
          "output_type": "stream",
          "name": "stderr",
          "text": [
            "\r 50%|████▉     | 103/207 [1:32:18<1:44:39, 60.38s/it]"
          ]
        },
        {
          "output_type": "stream",
          "name": "stdout",
          "text": [
            "AVG MAE:  4.944, AVG RMSE:  6.212, Sensor:  717488, "
          ]
        },
        {
          "output_type": "stream",
          "name": "stderr",
          "text": [
            "\r 50%|█████     | 104/207 [1:33:27<1:48:16, 63.07s/it]"
          ]
        },
        {
          "output_type": "stream",
          "name": "stdout",
          "text": [
            "AVG MAE:  5.315, AVG RMSE:  6.676, Sensor:  717818, "
          ]
        },
        {
          "output_type": "stream",
          "name": "stderr",
          "text": [
            "\r 51%|█████     | 105/207 [1:34:38<1:51:11, 65.41s/it]"
          ]
        },
        {
          "output_type": "stream",
          "name": "stdout",
          "text": [
            "AVG MAE:  4.754, AVG RMSE:  6.029, Sensor:  718076, "
          ]
        },
        {
          "output_type": "stream",
          "name": "stderr",
          "text": [
            "\r 51%|█████     | 106/207 [1:35:30<1:43:39, 61.58s/it]"
          ]
        },
        {
          "output_type": "stream",
          "name": "stdout",
          "text": [
            "AVG MAE:  4.767, AVG RMSE:  6.338, Sensor:  718072, "
          ]
        },
        {
          "output_type": "stream",
          "name": "stderr",
          "text": [
            "\r 52%|█████▏    | 107/207 [1:36:27<1:40:11, 60.11s/it]"
          ]
        },
        {
          "output_type": "stream",
          "name": "stdout",
          "text": [
            "AVG MAE:  5.278, AVG RMSE:  6.853, Sensor:  767455, "
          ]
        },
        {
          "output_type": "stream",
          "name": "stderr",
          "text": [
            "\r 52%|█████▏    | 108/207 [1:37:33<1:42:05, 61.88s/it]"
          ]
        },
        {
          "output_type": "stream",
          "name": "stdout",
          "text": [
            "AVG MAE:  3.315, AVG RMSE:  4.394, Sensor:  767454, "
          ]
        },
        {
          "output_type": "stream",
          "name": "stderr",
          "text": [
            "\r 53%|█████▎    | 109/207 [1:38:36<1:41:47, 62.33s/it]"
          ]
        },
        {
          "output_type": "stream",
          "name": "stdout",
          "text": [
            "AVG MAE:  4.361, AVG RMSE:  5.738, Sensor:  761599, "
          ]
        },
        {
          "output_type": "stream",
          "name": "stderr",
          "text": [
            "\r 53%|█████▎    | 110/207 [1:39:22<1:32:52, 57.45s/it]"
          ]
        },
        {
          "output_type": "stream",
          "name": "stdout",
          "text": [
            "AVG MAE:  4.458, AVG RMSE:  5.668, Sensor:  717099, "
          ]
        },
        {
          "output_type": "stream",
          "name": "stderr",
          "text": [
            "\r 54%|█████▎    | 111/207 [1:40:12<1:28:06, 55.07s/it]"
          ]
        },
        {
          "output_type": "stream",
          "name": "stdout",
          "text": [
            "AVG MAE:  4.188, AVG RMSE:  5.386, Sensor:  773916, "
          ]
        },
        {
          "output_type": "stream",
          "name": "stderr",
          "text": [
            "\r 54%|█████▍    | 112/207 [1:41:12<1:29:30, 56.53s/it]"
          ]
        },
        {
          "output_type": "stream",
          "name": "stdout",
          "text": [
            "AVG MAE:  5.774, AVG RMSE:  7.261, Sensor:  716968, "
          ]
        },
        {
          "output_type": "stream",
          "name": "stderr",
          "text": [
            "\r 55%|█████▍    | 113/207 [1:41:45<1:17:33, 49.50s/it]"
          ]
        },
        {
          "output_type": "stream",
          "name": "stdout",
          "text": [
            "AVG MAE:  5.552, AVG RMSE:  6.812, Sensor:  769467, "
          ]
        },
        {
          "output_type": "stream",
          "name": "stderr",
          "text": [
            "\r 55%|█████▌    | 114/207 [1:42:31<1:14:50, 48.29s/it]"
          ]
        },
        {
          "output_type": "stream",
          "name": "stdout",
          "text": [
            "AVG MAE:  6.429, AVG RMSE:  8.061, Sensor:  717576, "
          ]
        },
        {
          "output_type": "stream",
          "name": "stderr",
          "text": [
            "\r 56%|█████▌    | 115/207 [1:43:19<1:14:07, 48.35s/it]"
          ]
        },
        {
          "output_type": "stream",
          "name": "stdout",
          "text": [
            "AVG MAE:  4.677, AVG RMSE:  5.914, Sensor:  717573, "
          ]
        },
        {
          "output_type": "stream",
          "name": "stderr",
          "text": [
            "\r 56%|█████▌    | 116/207 [1:44:21<1:19:21, 52.32s/it]"
          ]
        },
        {
          "output_type": "stream",
          "name": "stdout",
          "text": [
            "AVG MAE:  5.115, AVG RMSE:  6.423, Sensor:  717572, "
          ]
        },
        {
          "output_type": "stream",
          "name": "stderr",
          "text": [
            "\r 57%|█████▋    | 117/207 [1:45:22<1:22:39, 55.10s/it]"
          ]
        },
        {
          "output_type": "stream",
          "name": "stdout",
          "text": [
            "AVG MAE:  5.632, AVG RMSE:  6.973, Sensor:  717571, "
          ]
        },
        {
          "output_type": "stream",
          "name": "stderr",
          "text": [
            "\r 57%|█████▋    | 118/207 [1:46:31<1:27:49, 59.21s/it]"
          ]
        },
        {
          "output_type": "stream",
          "name": "stdout",
          "text": [
            "AVG MAE:  5.195, AVG RMSE:  6.451, Sensor:  717570, "
          ]
        },
        {
          "output_type": "stream",
          "name": "stderr",
          "text": [
            "\r 57%|█████▋    | 119/207 [1:47:49<1:35:18, 64.98s/it]"
          ]
        },
        {
          "output_type": "stream",
          "name": "stdout",
          "text": [
            "AVG MAE:  4.248, AVG RMSE:  5.488, Sensor:  764760, "
          ]
        },
        {
          "output_type": "stream",
          "name": "stderr",
          "text": [
            "\r 58%|█████▊    | 120/207 [1:49:12<1:41:52, 70.26s/it]"
          ]
        },
        {
          "output_type": "stream",
          "name": "stdout",
          "text": [
            "AVG MAE:  4.564, AVG RMSE:  5.746, Sensor:  718089, "
          ]
        },
        {
          "output_type": "stream",
          "name": "stderr",
          "text": [
            "\r 58%|█████▊    | 121/207 [1:49:57<1:29:44, 62.61s/it]"
          ]
        },
        {
          "output_type": "stream",
          "name": "stdout",
          "text": [
            "AVG MAE:  6.793, AVG RMSE:  8.352, Sensor:  769847, "
          ]
        },
        {
          "output_type": "stream",
          "name": "stderr",
          "text": [
            "\r 59%|█████▉    | 122/207 [1:50:46<1:23:08, 58.69s/it]"
          ]
        },
        {
          "output_type": "stream",
          "name": "stdout",
          "text": [
            "AVG MAE:  5.14, AVG RMSE:  6.372, Sensor:  717608, "
          ]
        },
        {
          "output_type": "stream",
          "name": "stderr",
          "text": [
            "\r 59%|█████▉    | 123/207 [1:52:07<1:31:32, 65.38s/it]"
          ]
        },
        {
          "output_type": "stream",
          "name": "stdout",
          "text": [
            "AVG MAE:  4.935, AVG RMSE:  6.294, Sensor:  767523, "
          ]
        },
        {
          "output_type": "stream",
          "name": "stderr",
          "text": [
            "\r 60%|█████▉    | 124/207 [1:53:32<1:38:20, 71.10s/it]"
          ]
        },
        {
          "output_type": "stream",
          "name": "stdout",
          "text": [
            "AVG MAE:  3.552, AVG RMSE:  4.633, Sensor:  716942, "
          ]
        },
        {
          "output_type": "stream",
          "name": "stderr",
          "text": [
            "\r 60%|██████    | 125/207 [1:54:16<1:26:16, 63.13s/it]"
          ]
        },
        {
          "output_type": "stream",
          "name": "stdout",
          "text": [
            "AVG MAE:  6.739, AVG RMSE:  8.404, Sensor:  718090, "
          ]
        },
        {
          "output_type": "stream",
          "name": "stderr",
          "text": [
            "\r 61%|██████    | 126/207 [1:55:06<1:19:48, 59.12s/it]"
          ]
        },
        {
          "output_type": "stream",
          "name": "stdout",
          "text": [
            "AVG MAE:  6.808, AVG RMSE:  8.441, Sensor:  769867, "
          ]
        },
        {
          "output_type": "stream",
          "name": "stderr",
          "text": [
            "\r 61%|██████▏   | 127/207 [1:55:45<1:10:42, 53.03s/it]"
          ]
        },
        {
          "output_type": "stream",
          "name": "stdout",
          "text": [
            "AVG MAE:  5.603, AVG RMSE:  6.908, Sensor:  717472, "
          ]
        },
        {
          "output_type": "stream",
          "name": "stderr",
          "text": [
            "\r 62%|██████▏   | 128/207 [1:56:25<1:04:51, 49.26s/it]"
          ]
        },
        {
          "output_type": "stream",
          "name": "stdout",
          "text": [
            "AVG MAE:  8.744, AVG RMSE:  11.153, Sensor:  717473, "
          ]
        },
        {
          "output_type": "stream",
          "name": "stderr",
          "text": [
            "\r 62%|██████▏   | 129/207 [1:57:25<1:08:02, 52.33s/it]"
          ]
        },
        {
          "output_type": "stream",
          "name": "stdout",
          "text": [
            "AVG MAE:  5.045, AVG RMSE:  6.333, Sensor:  759591, "
          ]
        },
        {
          "output_type": "stream",
          "name": "stderr",
          "text": [
            "\r 63%|██████▎   | 130/207 [1:58:08<1:03:45, 49.68s/it]"
          ]
        },
        {
          "output_type": "stream",
          "name": "stdout",
          "text": [
            "AVG MAE:  4.686, AVG RMSE:  5.965, Sensor:  764781, "
          ]
        },
        {
          "output_type": "stream",
          "name": "stderr",
          "text": [
            "\r 63%|██████▎   | 131/207 [1:58:57<1:02:28, 49.32s/it]"
          ]
        },
        {
          "output_type": "stream",
          "name": "stdout",
          "text": [
            "AVG MAE:  6.392, AVG RMSE:  7.857, Sensor:  765099, "
          ]
        },
        {
          "output_type": "stream",
          "name": "stderr",
          "text": [
            "\r 64%|██████▍   | 132/207 [1:59:46<1:01:28, 49.18s/it]"
          ]
        },
        {
          "output_type": "stream",
          "name": "stdout",
          "text": [
            "AVG MAE:  5.778, AVG RMSE:  7.071, Sensor:  762329, "
          ]
        },
        {
          "output_type": "stream",
          "name": "stderr",
          "text": [
            "\r 64%|██████▍   | 133/207 [2:01:04<1:11:25, 57.91s/it]"
          ]
        },
        {
          "output_type": "stream",
          "name": "stdout",
          "text": [
            "AVG MAE:  4.121, AVG RMSE:  5.416, Sensor:  716953, "
          ]
        },
        {
          "output_type": "stream",
          "name": "stderr",
          "text": [
            "\r 65%|██████▍   | 134/207 [2:01:44<1:04:03, 52.65s/it]"
          ]
        },
        {
          "output_type": "stream",
          "name": "stdout",
          "text": [
            "AVG MAE:  5.619, AVG RMSE:  6.936, Sensor:  716951, "
          ]
        },
        {
          "output_type": "stream",
          "name": "stderr",
          "text": [
            "\r 65%|██████▌   | 135/207 [2:02:34<1:02:14, 51.87s/it]"
          ]
        },
        {
          "output_type": "stream",
          "name": "stdout",
          "text": [
            "AVG MAE:  6.163, AVG RMSE:  7.698, Sensor:  767509, "
          ]
        },
        {
          "output_type": "stream",
          "name": "stderr",
          "text": [
            "\r 66%|██████▌   | 136/207 [2:03:27<1:01:49, 52.24s/it]"
          ]
        },
        {
          "output_type": "stream",
          "name": "stdout",
          "text": [
            "AVG MAE:  4.386, AVG RMSE:  5.538, Sensor:  765182, "
          ]
        },
        {
          "output_type": "stream",
          "name": "stderr",
          "text": [
            "\r 66%|██████▌   | 137/207 [2:04:30<1:04:33, 55.34s/it]"
          ]
        },
        {
          "output_type": "stream",
          "name": "stdout",
          "text": [
            "AVG MAE:  4.817, AVG RMSE:  5.979, Sensor:  769358, "
          ]
        },
        {
          "output_type": "stream",
          "name": "stderr",
          "text": [
            "\r 67%|██████▋   | 138/207 [2:05:16<1:00:33, 52.66s/it]"
          ]
        },
        {
          "output_type": "stream",
          "name": "stdout",
          "text": [
            "AVG MAE:  6.665, AVG RMSE:  8.205, Sensor:  772513, "
          ]
        },
        {
          "output_type": "stream",
          "name": "stderr",
          "text": [
            "\r 67%|██████▋   | 139/207 [2:06:14<1:01:13, 54.03s/it]"
          ]
        },
        {
          "output_type": "stream",
          "name": "stdout",
          "text": [
            "AVG MAE:  4.691, AVG RMSE:  5.881, Sensor:  716958, "
          ]
        },
        {
          "output_type": "stream",
          "name": "stderr",
          "text": [
            "\r 68%|██████▊   | 140/207 [2:06:55<56:11, 50.32s/it]  "
          ]
        },
        {
          "output_type": "stream",
          "name": "stdout",
          "text": [
            "AVG MAE:  7.209, AVG RMSE:  8.803, Sensor:  718496, "
          ]
        },
        {
          "output_type": "stream",
          "name": "stderr",
          "text": [
            "\r 68%|██████▊   | 141/207 [2:07:22<47:31, 43.20s/it]"
          ]
        },
        {
          "output_type": "stream",
          "name": "stdout",
          "text": [
            "AVG MAE:  7.472, AVG RMSE:  9.025, Sensor:  769346, "
          ]
        },
        {
          "output_type": "stream",
          "name": "stderr",
          "text": [
            "\r 69%|██████▊   | 142/207 [2:08:12<48:54, 45.15s/it]"
          ]
        },
        {
          "output_type": "stream",
          "name": "stdout",
          "text": [
            "AVG MAE:  6.53, AVG RMSE:  8.089, Sensor:  773904, "
          ]
        },
        {
          "output_type": "stream",
          "name": "stderr",
          "text": [
            "\r 69%|██████▉   | 143/207 [2:09:06<51:07, 47.92s/it]"
          ]
        },
        {
          "output_type": "stream",
          "name": "stdout",
          "text": [
            "AVG MAE:  5.673, AVG RMSE:  7.086, Sensor:  718499, "
          ]
        },
        {
          "output_type": "stream",
          "name": "stderr",
          "text": [
            "\r 70%|██████▉   | 144/207 [2:09:50<49:02, 46.71s/it]"
          ]
        },
        {
          "output_type": "stream",
          "name": "stdout",
          "text": [
            "AVG MAE:  5.477, AVG RMSE:  7.013, Sensor:  764853, "
          ]
        },
        {
          "output_type": "stream",
          "name": "stderr",
          "text": [
            "\r 70%|███████   | 145/207 [2:10:23<43:58, 42.56s/it]"
          ]
        },
        {
          "output_type": "stream",
          "name": "stdout",
          "text": [
            "AVG MAE:  5.775, AVG RMSE:  6.978, Sensor:  761003, "
          ]
        },
        {
          "output_type": "stream",
          "name": "stderr",
          "text": [
            "\r 71%|███████   | 146/207 [2:11:38<53:19, 52.44s/it]"
          ]
        },
        {
          "output_type": "stream",
          "name": "stdout",
          "text": [
            "AVG MAE:  5.176, AVG RMSE:  6.528, Sensor:  717502, "
          ]
        },
        {
          "output_type": "stream",
          "name": "stderr",
          "text": [
            "\r 71%|███████   | 147/207 [2:12:19<49:02, 49.04s/it]"
          ]
        },
        {
          "output_type": "stream",
          "name": "stdout",
          "text": [
            "AVG MAE:  6.006, AVG RMSE:  7.476, Sensor:  759602, "
          ]
        },
        {
          "output_type": "stream",
          "name": "stderr",
          "text": [
            "\r 71%|███████▏  | 148/207 [2:13:03<46:29, 47.28s/it]"
          ]
        },
        {
          "output_type": "stream",
          "name": "stdout",
          "text": [
            "AVG MAE:  4.444, AVG RMSE:  5.666, Sensor:  717504, "
          ]
        },
        {
          "output_type": "stream",
          "name": "stderr",
          "text": [
            "\r 72%|███████▏  | 149/207 [2:13:42<43:32, 45.04s/it]"
          ]
        },
        {
          "output_type": "stream",
          "name": "stdout",
          "text": [
            "AVG MAE:  7.343, AVG RMSE:  9.009, Sensor:  763995, "
          ]
        },
        {
          "output_type": "stream",
          "name": "stderr",
          "text": [
            "\r 72%|███████▏  | 150/207 [2:14:38<45:53, 48.32s/it]"
          ]
        },
        {
          "output_type": "stream",
          "name": "stdout",
          "text": [
            "AVG MAE:  5.541, AVG RMSE:  6.903, Sensor:  717508, "
          ]
        },
        {
          "output_type": "stream",
          "name": "stderr",
          "text": [
            "\r 73%|███████▎  | 151/207 [2:15:18<42:43, 45.79s/it]"
          ]
        },
        {
          "output_type": "stream",
          "name": "stdout",
          "text": [
            "AVG MAE:  7.031, AVG RMSE:  8.695, Sensor:  765265, "
          ]
        },
        {
          "output_type": "stream",
          "name": "stderr",
          "text": [
            "\r 73%|███████▎  | 152/207 [2:16:17<45:32, 49.69s/it]"
          ]
        },
        {
          "output_type": "stream",
          "name": "stdout",
          "text": [
            "AVG MAE:  5.106, AVG RMSE:  6.344, Sensor:  773996, "
          ]
        },
        {
          "output_type": "stream",
          "name": "stderr",
          "text": [
            "\r 74%|███████▍  | 153/207 [2:17:06<44:29, 49.43s/it]"
          ]
        },
        {
          "output_type": "stream",
          "name": "stdout",
          "text": [
            "AVG MAE:  3.882, AVG RMSE:  4.948, Sensor:  773995, "
          ]
        },
        {
          "output_type": "stream",
          "name": "stderr",
          "text": [
            "\r 74%|███████▍  | 154/207 [2:17:54<43:21, 49.09s/it]"
          ]
        },
        {
          "output_type": "stream",
          "name": "stdout",
          "text": [
            "AVG MAE:  3.933, AVG RMSE:  5.087, Sensor:  717469, "
          ]
        },
        {
          "output_type": "stream",
          "name": "stderr",
          "text": [
            "\r 75%|███████▍  | 155/207 [2:19:02<47:24, 54.70s/it]"
          ]
        },
        {
          "output_type": "stream",
          "name": "stdout",
          "text": [
            "AVG MAE:  4.902, AVG RMSE:  6.09, Sensor:  717468, "
          ]
        },
        {
          "output_type": "stream",
          "name": "stderr",
          "text": [
            "\r 75%|███████▌  | 156/207 [2:19:38<41:51, 49.25s/it]"
          ]
        },
        {
          "output_type": "stream",
          "name": "stdout",
          "text": [
            "AVG MAE:  7.465, AVG RMSE:  9.262, Sensor:  764106, "
          ]
        },
        {
          "output_type": "stream",
          "name": "stderr",
          "text": [
            "\r 76%|███████▌  | 157/207 [2:20:36<43:04, 51.70s/it]"
          ]
        },
        {
          "output_type": "stream",
          "name": "stdout",
          "text": [
            "AVG MAE:  3.68, AVG RMSE:  4.658, Sensor:  717465, "
          ]
        },
        {
          "output_type": "stream",
          "name": "stderr",
          "text": [
            "\r 76%|███████▋  | 158/207 [2:21:44<46:16, 56.67s/it]"
          ]
        },
        {
          "output_type": "stream",
          "name": "stdout",
          "text": [
            "AVG MAE:  5.464, AVG RMSE:  6.868, Sensor:  764794, "
          ]
        },
        {
          "output_type": "stream",
          "name": "stderr",
          "text": [
            "\r 77%|███████▋  | 159/207 [2:22:23<41:08, 51.44s/it]"
          ]
        },
        {
          "output_type": "stream",
          "name": "stdout",
          "text": [
            "AVG MAE:  6.132, AVG RMSE:  7.497, Sensor:  717466, "
          ]
        },
        {
          "output_type": "stream",
          "name": "stderr",
          "text": [
            "\r 77%|███████▋  | 160/207 [2:23:00<36:42, 46.86s/it]"
          ]
        },
        {
          "output_type": "stream",
          "name": "stdout",
          "text": [
            "AVG MAE:  7.844, AVG RMSE:  9.659, Sensor:  717461, "
          ]
        },
        {
          "output_type": "stream",
          "name": "stderr",
          "text": [
            "\r 78%|███████▊  | 161/207 [2:23:31<32:26, 42.31s/it]"
          ]
        },
        {
          "output_type": "stream",
          "name": "stdout",
          "text": [
            "AVG MAE:  6.755, AVG RMSE:  8.275, Sensor:  717460, "
          ]
        },
        {
          "output_type": "stream",
          "name": "stderr",
          "text": [
            "\r 78%|███████▊  | 162/207 [2:24:42<38:05, 50.80s/it]"
          ]
        },
        {
          "output_type": "stream",
          "name": "stdout",
          "text": [
            "AVG MAE:  4.717, AVG RMSE:  5.959, Sensor:  717463, "
          ]
        },
        {
          "output_type": "stream",
          "name": "stderr",
          "text": [
            "\r 79%|███████▊  | 163/207 [2:26:07<44:53, 61.22s/it]"
          ]
        },
        {
          "output_type": "stream",
          "name": "stdout",
          "text": [
            "AVG MAE:  5.217, AVG RMSE:  6.667, Sensor:  717462, "
          ]
        },
        {
          "output_type": "stream",
          "name": "stderr",
          "text": [
            "\r 79%|███████▉  | 164/207 [2:26:49<39:45, 55.47s/it]"
          ]
        },
        {
          "output_type": "stream",
          "name": "stdout",
          "text": [
            "AVG MAE:  7.752, AVG RMSE:  9.564, Sensor:  769345, "
          ]
        },
        {
          "output_type": "stream",
          "name": "stderr",
          "text": [
            "\r 80%|███████▉  | 165/207 [2:27:36<36:56, 52.77s/it]"
          ]
        },
        {
          "output_type": "stream",
          "name": "stdout",
          "text": [
            "AVG MAE:  6.317, AVG RMSE:  7.864, Sensor:  716943, "
          ]
        },
        {
          "output_type": "stream",
          "name": "stderr",
          "text": [
            "\r 80%|████████  | 166/207 [2:28:12<32:34, 47.66s/it]"
          ]
        },
        {
          "output_type": "stream",
          "name": "stdout",
          "text": [
            "AVG MAE:  7.64, AVG RMSE:  9.356, Sensor:  772669, "
          ]
        },
        {
          "output_type": "stream",
          "name": "stderr",
          "text": [
            "\r 81%|████████  | 167/207 [2:29:25<36:49, 55.23s/it]"
          ]
        },
        {
          "output_type": "stream",
          "name": "stdout",
          "text": [
            "AVG MAE:  5.818, AVG RMSE:  7.558, Sensor:  717582, "
          ]
        },
        {
          "output_type": "stream",
          "name": "stderr",
          "text": [
            "\r 81%|████████  | 168/207 [2:30:32<38:16, 58.89s/it]"
          ]
        },
        {
          "output_type": "stream",
          "name": "stdout",
          "text": [
            "AVG MAE:  3.771, AVG RMSE:  4.94, Sensor:  717583, "
          ]
        },
        {
          "output_type": "stream",
          "name": "stderr",
          "text": [
            "\r 82%|████████▏ | 169/207 [2:31:16<34:33, 54.57s/it]"
          ]
        },
        {
          "output_type": "stream",
          "name": "stdout",
          "text": [
            "AVG MAE:  4.629, AVG RMSE:  5.852, Sensor:  717580, "
          ]
        },
        {
          "output_type": "stream",
          "name": "stderr",
          "text": [
            "\r 82%|████████▏ | 170/207 [2:32:03<32:06, 52.06s/it]"
          ]
        },
        {
          "output_type": "stream",
          "name": "stdout",
          "text": [
            "AVG MAE:  4.459, AVG RMSE:  5.647, Sensor:  716949, "
          ]
        },
        {
          "output_type": "stream",
          "name": "stderr",
          "text": [
            "\r 83%|████████▎ | 171/207 [2:32:44<29:13, 48.70s/it]"
          ]
        },
        {
          "output_type": "stream",
          "name": "stdout",
          "text": [
            "AVG MAE:  5.993, AVG RMSE:  7.371, Sensor:  717587, "
          ]
        },
        {
          "output_type": "stream",
          "name": "stderr",
          "text": [
            "\r 83%|████████▎ | 172/207 [2:33:36<28:59, 49.71s/it]"
          ]
        },
        {
          "output_type": "stream",
          "name": "stdout",
          "text": [
            "AVG MAE:  3.513, AVG RMSE:  4.597, Sensor:  772178, "
          ]
        },
        {
          "output_type": "stream",
          "name": "stderr",
          "text": [
            "\r 84%|████████▎ | 173/207 [2:34:13<26:09, 46.16s/it]"
          ]
        },
        {
          "output_type": "stream",
          "name": "stdout",
          "text": [
            "AVG MAE:  6.979, AVG RMSE:  8.551, Sensor:  717585, "
          ]
        },
        {
          "output_type": "stream",
          "name": "stderr",
          "text": [
            "\r 84%|████████▍ | 174/207 [2:35:06<26:21, 47.93s/it]"
          ]
        },
        {
          "output_type": "stream",
          "name": "stdout",
          "text": [
            "AVG MAE:  3.505, AVG RMSE:  4.566, Sensor:  716939, "
          ]
        },
        {
          "output_type": "stream",
          "name": "stderr",
          "text": [
            "\r 85%|████████▍ | 175/207 [2:35:44<24:01, 45.06s/it]"
          ]
        },
        {
          "output_type": "stream",
          "name": "stdout",
          "text": [
            "AVG MAE:  6.441, AVG RMSE:  7.911, Sensor:  768469, "
          ]
        },
        {
          "output_type": "stream",
          "name": "stderr",
          "text": [
            "\r 85%|████████▌ | 176/207 [2:36:44<25:40, 49.70s/it]"
          ]
        },
        {
          "output_type": "stream",
          "name": "stdout",
          "text": [
            "AVG MAE:  5.799, AVG RMSE:  7.219, Sensor:  764101, "
          ]
        },
        {
          "output_type": "stream",
          "name": "stderr",
          "text": [
            "\r 86%|████████▌ | 177/207 [2:38:06<29:39, 59.32s/it]"
          ]
        },
        {
          "output_type": "stream",
          "name": "stdout",
          "text": [
            "AVG MAE:  5.201, AVG RMSE:  6.644, Sensor:  767554, "
          ]
        },
        {
          "output_type": "stream",
          "name": "stderr",
          "text": [
            "\r 86%|████████▌ | 178/207 [2:39:08<29:05, 60.20s/it]"
          ]
        },
        {
          "output_type": "stream",
          "name": "stdout",
          "text": [
            "AVG MAE:  3.55, AVG RMSE:  4.592, Sensor:  773975, "
          ]
        },
        {
          "output_type": "stream",
          "name": "stderr",
          "text": [
            "\r 86%|████████▋ | 179/207 [2:40:08<27:59, 60.00s/it]"
          ]
        },
        {
          "output_type": "stream",
          "name": "stdout",
          "text": [
            "AVG MAE:  4.053, AVG RMSE:  5.167, Sensor:  773974, "
          ]
        },
        {
          "output_type": "stream",
          "name": "stderr",
          "text": [
            "\r 87%|████████▋ | 180/207 [2:40:58<25:37, 56.96s/it]"
          ]
        },
        {
          "output_type": "stream",
          "name": "stdout",
          "text": [
            "AVG MAE:  4.056, AVG RMSE:  5.075, Sensor:  717510, "
          ]
        },
        {
          "output_type": "stream",
          "name": "stderr",
          "text": [
            "\r 87%|████████▋ | 181/207 [2:41:32<21:42, 50.10s/it]"
          ]
        },
        {
          "output_type": "stream",
          "name": "stdout",
          "text": [
            "AVG MAE:  6.676, AVG RMSE:  8.279, Sensor:  717513, "
          ]
        },
        {
          "output_type": "stream",
          "name": "stderr",
          "text": [
            "\r 88%|████████▊ | 182/207 [2:42:17<20:15, 48.60s/it]"
          ]
        },
        {
          "output_type": "stream",
          "name": "stdout",
          "text": [
            "AVG MAE:  6.36, AVG RMSE:  7.998, Sensor:  717825, "
          ]
        },
        {
          "output_type": "stream",
          "name": "stderr",
          "text": [
            "\r 88%|████████▊ | 183/207 [2:43:25<21:45, 54.39s/it]"
          ]
        },
        {
          "output_type": "stream",
          "name": "stdout",
          "text": [
            "AVG MAE:  4.787, AVG RMSE:  6.08, Sensor:  767495, "
          ]
        },
        {
          "output_type": "stream",
          "name": "stderr",
          "text": [
            "\r 89%|████████▉ | 184/207 [2:44:51<24:27, 63.79s/it]"
          ]
        },
        {
          "output_type": "stream",
          "name": "stdout",
          "text": [
            "AVG MAE:  4.283, AVG RMSE:  5.622, Sensor:  767494, "
          ]
        },
        {
          "output_type": "stream",
          "name": "stderr",
          "text": [
            "\r 89%|████████▉ | 185/207 [2:45:52<23:09, 63.15s/it]"
          ]
        },
        {
          "output_type": "stream",
          "name": "stdout",
          "text": [
            "AVG MAE:  3.626, AVG RMSE:  4.619, Sensor:  717821, "
          ]
        },
        {
          "output_type": "stream",
          "name": "stderr",
          "text": [
            "\r 90%|████████▉ | 186/207 [2:47:04<23:01, 65.78s/it]"
          ]
        },
        {
          "output_type": "stream",
          "name": "stdout",
          "text": [
            "AVG MAE:  4.926, AVG RMSE:  6.24, Sensor:  717823, "
          ]
        },
        {
          "output_type": "stream",
          "name": "stderr",
          "text": [
            "\r 90%|█████████ | 187/207 [2:48:09<21:47, 65.39s/it]"
          ]
        },
        {
          "output_type": "stream",
          "name": "stdout",
          "text": [
            "AVG MAE:  5.129, AVG RMSE:  6.405, Sensor:  717458, "
          ]
        },
        {
          "output_type": "stream",
          "name": "stderr",
          "text": [
            "\r 91%|█████████ | 188/207 [2:48:37<17:12, 54.33s/it]"
          ]
        },
        {
          "output_type": "stream",
          "name": "stdout",
          "text": [
            "AVG MAE:  7.074, AVG RMSE:  8.596, Sensor:  717459, "
          ]
        },
        {
          "output_type": "stream",
          "name": "stderr",
          "text": [
            "\r 91%|█████████▏| 189/207 [2:49:39<16:58, 56.56s/it]"
          ]
        },
        {
          "output_type": "stream",
          "name": "stdout",
          "text": [
            "AVG MAE:  5.545, AVG RMSE:  6.875, Sensor:  769926, "
          ]
        },
        {
          "output_type": "stream",
          "name": "stderr",
          "text": [
            "\r 92%|█████████▏| 190/207 [2:50:37<16:08, 56.97s/it]"
          ]
        },
        {
          "output_type": "stream",
          "name": "stdout",
          "text": [
            "AVG MAE:  4.758, AVG RMSE:  5.997, Sensor:  764858, "
          ]
        },
        {
          "output_type": "stream",
          "name": "stderr",
          "text": [
            "\r 92%|█████████▏| 191/207 [2:51:27<14:39, 54.98s/it]"
          ]
        },
        {
          "output_type": "stream",
          "name": "stdout",
          "text": [
            "AVG MAE:  6.28, AVG RMSE:  7.826, Sensor:  717450, "
          ]
        },
        {
          "output_type": "stream",
          "name": "stderr",
          "text": [
            "\r 93%|█████████▎| 192/207 [2:52:01<12:09, 48.62s/it]"
          ]
        },
        {
          "output_type": "stream",
          "name": "stdout",
          "text": [
            "AVG MAE:  6.743, AVG RMSE:  8.13, Sensor:  717452, "
          ]
        },
        {
          "output_type": "stream",
          "name": "stderr",
          "text": [
            "\r 93%|█████████▎| 193/207 [2:52:51<11:27, 49.11s/it]"
          ]
        },
        {
          "output_type": "stream",
          "name": "stdout",
          "text": [
            "AVG MAE:  5.365, AVG RMSE:  6.689, Sensor:  717453, "
          ]
        },
        {
          "output_type": "stream",
          "name": "stderr",
          "text": [
            "\r 94%|█████████▎| 194/207 [2:53:23<09:31, 43.93s/it]"
          ]
        },
        {
          "output_type": "stream",
          "name": "stdout",
          "text": [
            "AVG MAE:  6.231, AVG RMSE:  7.534, Sensor:  759772, "
          ]
        },
        {
          "output_type": "stream",
          "name": "stderr",
          "text": [
            "\r 94%|█████████▍| 195/207 [2:53:56<08:08, 40.73s/it]"
          ]
        },
        {
          "output_type": "stream",
          "name": "stdout",
          "text": [
            "AVG MAE:  6.201, AVG RMSE:  7.878, Sensor:  717456, "
          ]
        },
        {
          "output_type": "stream",
          "name": "stderr",
          "text": [
            "\r 95%|█████████▍| 196/207 [2:54:56<08:30, 46.44s/it]"
          ]
        },
        {
          "output_type": "stream",
          "name": "stdout",
          "text": [
            "AVG MAE:  5.912, AVG RMSE:  7.411, Sensor:  771673, "
          ]
        },
        {
          "output_type": "stream",
          "name": "stderr",
          "text": [
            "\r 95%|█████████▌| 197/207 [2:56:01<08:40, 52.09s/it]"
          ]
        },
        {
          "output_type": "stream",
          "name": "stdout",
          "text": [
            "AVG MAE:  2.853, AVG RMSE:  3.538, Sensor:  772167, "
          ]
        },
        {
          "output_type": "stream",
          "name": "stderr",
          "text": [
            "\r 96%|█████████▌| 198/207 [2:56:47<07:31, 50.17s/it]"
          ]
        },
        {
          "output_type": "stream",
          "name": "stdout",
          "text": [
            "AVG MAE:  4.68, AVG RMSE:  5.74, Sensor:  769372, "
          ]
        },
        {
          "output_type": "stream",
          "name": "stderr",
          "text": [
            "\r 96%|█████████▌| 199/207 [2:58:02<07:39, 57.46s/it]"
          ]
        },
        {
          "output_type": "stream",
          "name": "stdout",
          "text": [
            "AVG MAE:  5.181, AVG RMSE:  6.558, Sensor:  774204, "
          ]
        },
        {
          "output_type": "stream",
          "name": "stderr",
          "text": [
            "\r 97%|█████████▋| 200/207 [2:58:45<06:12, 53.22s/it]"
          ]
        },
        {
          "output_type": "stream",
          "name": "stdout",
          "text": [
            "AVG MAE:  5.875, AVG RMSE:  7.288, Sensor:  769806, "
          ]
        },
        {
          "output_type": "stream",
          "name": "stderr",
          "text": [
            "\r 97%|█████████▋| 201/207 [2:59:44<05:30, 55.02s/it]"
          ]
        },
        {
          "output_type": "stream",
          "name": "stdout",
          "text": [
            "AVG MAE:  3.918, AVG RMSE:  4.991, Sensor:  717590, "
          ]
        },
        {
          "output_type": "stream",
          "name": "stderr",
          "text": [
            "\r 98%|█████████▊| 202/207 [3:00:37<04:32, 54.43s/it]"
          ]
        },
        {
          "output_type": "stream",
          "name": "stdout",
          "text": [
            "AVG MAE:  4.124, AVG RMSE:  5.236, Sensor:  717592, "
          ]
        },
        {
          "output_type": "stream",
          "name": "stderr",
          "text": [
            "\r 98%|█████████▊| 203/207 [3:01:21<03:24, 51.10s/it]"
          ]
        },
        {
          "output_type": "stream",
          "name": "stdout",
          "text": [
            "AVG MAE:  3.738, AVG RMSE:  4.834, Sensor:  717595, "
          ]
        },
        {
          "output_type": "stream",
          "name": "stderr",
          "text": [
            "\r 99%|█████████▊| 204/207 [3:02:36<02:55, 58.49s/it]"
          ]
        },
        {
          "output_type": "stream",
          "name": "stdout",
          "text": [
            "AVG MAE:  3.476, AVG RMSE:  4.632, Sensor:  772168, "
          ]
        },
        {
          "output_type": "stream",
          "name": "stderr",
          "text": [
            "\r 99%|█████████▉| 205/207 [3:03:37<01:58, 59.06s/it]"
          ]
        },
        {
          "output_type": "stream",
          "name": "stdout",
          "text": [
            "AVG MAE:  4.852, AVG RMSE:  5.987, Sensor:  718141, "
          ]
        },
        {
          "output_type": "stream",
          "name": "stderr",
          "text": [
            "\r100%|█████████▉| 206/207 [3:04:28<00:56, 56.86s/it]"
          ]
        },
        {
          "output_type": "stream",
          "name": "stdout",
          "text": [
            "AVG MAE:  5.932, AVG RMSE:  7.496, Sensor:  769373, "
          ]
        },
        {
          "output_type": "stream",
          "name": "stderr",
          "text": [
            "100%|██████████| 207/207 [3:05:18<00:00, 53.71s/it]"
          ]
        },
        {
          "output_type": "stream",
          "name": "stdout",
          "text": [
            "AVG MAE:  6.793, AVG RMSE:  8.456, "
          ]
        },
        {
          "output_type": "stream",
          "name": "stderr",
          "text": [
            "\n"
          ]
        }
      ]
    },
    {
      "cell_type": "markdown",
      "metadata": {
        "id": "pgICOPlLXv2f"
      },
      "source": [
        "Saving Trained Results"
      ]
    },
    {
      "cell_type": "markdown",
      "metadata": {
        "id": "7L1a_4GQX1zw"
      },
      "source": [
        "Graph Plotting"
      ]
    },
    {
      "cell_type": "code",
      "metadata": {
        "colab": {
          "base_uri": "https://localhost:8080/",
          "height": 332
        },
        "id": "j2Df_rhrYF2H",
        "outputId": "217ca7d0-ba3a-4563-9956-ab67c737b28d"
      },
      "source": [
        "ErrorData = pd.read_pickle(\"/content/drive/MyDrive/Traffic Prediction/Results/SVRErrorData.pkl\")\n",
        "print(ErrorData)\n",
        "\n",
        "import matplotlib.pyplot as plt\n",
        "\n",
        "plt.plot(sensor_list_la,ErrorData[0],label='MAE')\n",
        "plt.plot(sensor_list_la,ErrorData[1],label='RMSE')\n",
        "plt.legend()\n",
        "plt.title('Error Plot distribution for sensor')\n",
        "plt.xlabel('Sensors')\n",
        "plt.ylabel('error %')\n",
        "plt.show()"
      ],
      "execution_count": null,
      "outputs": [
        {
          "output_type": "stream",
          "name": "stdout",
          "text": [
            "[[5.183, 3.541, 4.547, 4.986, 6.376, 6.019, 5.121, 3.527, 5.373, 5.863, 3.984, 4.798, 6.086, 5.253, 6.444, 6.271, 2.577, 5.383, 4.054, 4.614, 5.174, 4.072, 4.534, 7.297, 4.592, 7.663, 6.152, 3.471, 4.231, 4.055, 6.752, 5.216, 6.073, 5.061, 4.824, 4.142, 5.677, 4.928, 8.711, 4.39, 5.041, 5.631, 5.952, 6.29, 3.615, 3.759, 4.459, 6.724, 5.769, 5.184, 4.115, 6.591, 6.708, 5.145, 5.236, 4.028, 5.247, 4.212, 5.541, 4.403, 5.674, 8.27, 8.938, 6.102, 4.326, 4.828, 4.542, 4.574, 4.948, 6.703, 3.692, 3.106, 7.155, 6.679, 4.439, 5.587, 6.737, 7.691, 4.973, 4.522, 5.416, 5.594, 5.514, 5.966, 5.358, 3.763, 5.926, 6.545, 4.885, 4.312, 4.364, 4.798, 3.96, 4.876, 4.448, 6.67, 8.033, 5.036, 5.07, 3.32, 7.129, 5.639, 4.944, 5.315, 4.754, 4.767, 5.278, 3.315, 4.361, 4.458, 4.188, 5.774, 5.552, 6.429, 4.677, 5.115, 5.632, 5.195, 4.248, 4.564, 6.793, 5.14, 4.935, 3.552, 6.739, 6.808, 5.603, 8.744, 5.045, 4.686, 6.392, 5.778, 4.121, 5.619, 6.163, 4.386, 4.817, 6.665, 4.691, 7.209, 7.472, 6.53, 5.673, 5.477, 5.775, 5.176, 6.006, 4.444, 7.343, 5.541, 7.031, 5.106, 3.882, 3.933, 4.902, 7.465, 3.68, 5.464, 6.132, 7.844, 6.755, 4.717, 5.217, 7.752, 6.317, 7.64, 5.818, 3.771, 4.629, 4.459, 5.993, 3.513, 6.979, 3.505, 6.441, 5.799, 5.201, 3.55, 4.053, 4.056, 6.676, 6.36, 4.787, 4.283, 3.626, 4.926, 5.129, 7.074, 5.545, 4.758, 6.28, 6.743, 5.365, 6.231, 6.201, 5.912, 2.853, 4.68, 5.181, 5.875, 3.918, 4.124, 3.738, 3.476, 4.852, 5.932, 6.793], [6.537, 4.606, 5.821, 6.167, 7.68, 7.41, 6.381, 4.562, 6.695, 7.351, 5.083, 6.273, 7.489, 6.767, 7.932, 7.55, 3.217, 6.744, 5.05, 5.761, 6.487, 5.113, 5.557, 9.06, 5.835, 9.29, 7.575, 4.517, 5.519, 5.099, 8.575, 6.703, 7.698, 6.231, 6.144, 5.196, 7.302, 6.122, 10.74, 5.535, 6.351, 7.021, 7.487, 7.795, 4.744, 4.921, 5.724, 8.239, 7.115, 6.514, 5.133, 8.045, 8.26, 6.302, 6.484, 5.225, 6.425, 5.252, 6.889, 5.48, 7.116, 10.241, 11.013, 7.669, 5.548, 6.067, 5.971, 6.024, 6.184, 8.252, 4.607, 3.922, 8.725, 8.103, 5.603, 6.891, 8.273, 9.704, 6.276, 5.79, 6.71, 6.908, 6.909, 7.546, 6.617, 4.889, 7.356, 8.133, 6.13, 5.396, 5.714, 5.783, 5.275, 6.098, 5.537, 8.22, 10.618, 6.403, 6.213, 4.351, 8.783, 6.963, 6.212, 6.676, 6.029, 6.338, 6.853, 4.394, 5.738, 5.668, 5.386, 7.261, 6.812, 8.061, 5.914, 6.423, 6.973, 6.451, 5.488, 5.746, 8.352, 6.372, 6.294, 4.633, 8.404, 8.441, 6.908, 11.153, 6.333, 5.965, 7.857, 7.071, 5.416, 6.936, 7.698, 5.538, 5.979, 8.205, 5.881, 8.803, 9.025, 8.089, 7.086, 7.013, 6.978, 6.528, 7.476, 5.666, 9.009, 6.903, 8.695, 6.344, 4.948, 5.087, 6.09, 9.262, 4.658, 6.868, 7.497, 9.659, 8.275, 5.959, 6.667, 9.564, 7.864, 9.356, 7.558, 4.94, 5.852, 5.647, 7.371, 4.597, 8.551, 4.566, 7.911, 7.219, 6.644, 4.592, 5.167, 5.075, 8.279, 7.998, 6.08, 5.622, 4.619, 6.24, 6.405, 8.596, 6.875, 5.997, 7.826, 8.13, 6.689, 7.534, 7.878, 7.411, 3.538, 5.74, 6.558, 7.288, 4.991, 5.236, 4.834, 4.632, 5.987, 7.496, 8.456]]\n"
          ]
        },
        {
          "output_type": "display_data",
          "data": {
            "image/png": "[encoded data removed]",
            "text/plain": [
              "<Figure size 432x288 with 1 Axes>"
            ]
          },
          "metadata": {
            "needs_background": "light"
          }
        }
      ]
    }
  ]
}